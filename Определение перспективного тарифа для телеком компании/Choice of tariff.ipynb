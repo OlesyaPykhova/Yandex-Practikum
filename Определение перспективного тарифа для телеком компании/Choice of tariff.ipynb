{
 "cells": [
  {
   "cell_type": "markdown",
   "metadata": {},
   "source": [
    "# Определение перспективного тарифа для телеком компании\n",
    "\n",
    "### Описание тарифов\n",
    "**Тариф «Смарт»**\n",
    "1. Ежемесячная плата: 550 рублей\n",
    "2. Включено 500 минут разговора, 50 сообщений и 15 Гб интернет-трафика\n",
    "3. Стоимость услуг сверх тарифного пакета:\n",
    "  * минута разговора: 3 рубля\n",
    "  * сообщение: 3 рубля\n",
    "  * 1 Гб интернет-трафика: 200 рублей\n",
    "\n",
    "**Тариф «Ультра»**\n",
    "1. Ежемесячная плата: 1950 рублей\n",
    "2. Включено 3000 минут разговора, 1000 сообщений и 30 Гб интернет-трафика\n",
    "3. Стоимость услуг сверх тарифного пакета:\n",
    "  * минута разговора: 1 рубль\n",
    "  * сообщение: 1 рубль\n",
    "  * 1 Гб интернет-трафика: 150 рублей"
   ]
  },
  {
   "cell_type": "markdown",
   "metadata": {},
   "source": [
    "## Оглавление\n",
    "\n",
    "<a href='#1'>1. Знакомство с данными</a>\n",
    "* <a href='#1.1'>1.1 Изучим общую информацию по таблице 'users'</a>\n",
    "* <a href='#1.2'>1.2 Изучим общую информацию по таблице 'calls'</a>\n",
    "* <a href='#1.3'>1.3 Изучим общую информацию по таблице 'messages'</a>\n",
    "* <a href='#1.4'>1.4 Изучим общую информацию по таблице 'internet'</a>\n",
    "* <a href='#1.5'>1.5 Изучим общую информацию по таблице 'tariffs'</a>\n",
    "\n",
    "<a href='#2'>2. Добавление новых данных</a>\n",
    "* <a href='#2.1'>2.1 Количество сделанных звонков и израсходованных минут разговора по месяцам</a>\n",
    "* <a href='#2.2'>2.2 Количество отправленных сообщений по месяцам</a>\n",
    "* <a href='#2.3'>2.3 Объем израсходованного интернет-трафика по месяцам</a>\n",
    "* <a href='#2.4'>2.4 Объединим данные в одну общую таблицу</a>\n",
    "* <a href='#2.5'>2.5 Помесячная выручка с каждого пользователя</a>\n",
    "\n",
    "<a href='#3'>3. Статистический анализ данных</a>\n",
    "* <a href='#3.1'>3.1 Сколько минут разговора требуется пользователям каждого тарифа в месяц</a>\n",
    "* <a href='#3.2'>3.2 Сколько сообщений требуется пользователям каждого тарифа в месяц</a>\n",
    "* <a href='#3.3'>3.3 Какой объём интернет-трафика требуется пользователям каждого тарифа в месяц</a>\n",
    "\n",
    "<a href='#4'>4. Проверка гипотез</a>\n",
    "* <a href='#4.1'>4.1 Средняя выручка пользователей тарифов «Ультра» и «Смарт» различается</a>\n",
    "* <a href='#4.2'>4.2 Средняя выручка пользователей из Москвы отличается от выручки пользователей из других регионов</a>\n",
    "\n",
    "<a href='#5'>5. Общий вывод</a>"
   ]
  },
  {
   "cell_type": "markdown",
   "metadata": {},
   "source": [
    "<a id='1'></a>\n",
    "# Шаг 1. Знакомство с данными\n"
   ]
  },
  {
   "cell_type": "code",
   "execution_count": 2,
   "metadata": {},
   "outputs": [],
   "source": [
    "#Импорт библиотек\n",
    "\n",
    "import pandas as pd #для описания и анализа данных\n",
    "import matplotlib.pyplot as plt # для работы с графиками\n",
    "#магия, чтобы график был сразу после выполнения кода\n",
    "%matplotlib inline \n",
    "import numpy as np # для эффективной работы с вычислениями и большими массивами"
   ]
  },
  {
   "cell_type": "code",
   "execution_count": 3,
   "metadata": {
    "scrolled": true
   },
   "outputs": [],
   "source": [
    "#Открываем наши данные\n",
    "\n",
    "users = pd.read_csv('users.csv')\n",
    "calls = pd.read_csv('calls.csv')\n",
    "messages = pd.read_csv('messages.csv')\n",
    "internet = pd.read_csv('internet.csv')\n",
    "tariffs = pd.read_csv('tariffs.csv')"
   ]
  },
  {
   "cell_type": "markdown",
   "metadata": {},
   "source": [
    "<a id='1.1'></a>\n",
    "### 1.1 Изучим общую информацию по таблице 'users'"
   ]
  },
  {
   "cell_type": "markdown",
   "metadata": {},
   "source": [
    "**Выведем информацию на экран**"
   ]
  },
  {
   "cell_type": "code",
   "execution_count": 3,
   "metadata": {
    "scrolled": true
   },
   "outputs": [
    {
     "data": {
      "text/html": [
       "<div>\n",
       "<style scoped>\n",
       "    .dataframe tbody tr th:only-of-type {\n",
       "        vertical-align: middle;\n",
       "    }\n",
       "\n",
       "    .dataframe tbody tr th {\n",
       "        vertical-align: top;\n",
       "    }\n",
       "\n",
       "    .dataframe thead th {\n",
       "        text-align: right;\n",
       "    }\n",
       "</style>\n",
       "<table border=\"1\" class=\"dataframe\">\n",
       "  <thead>\n",
       "    <tr style=\"text-align: right;\">\n",
       "      <th></th>\n",
       "      <th>user_id</th>\n",
       "      <th>age</th>\n",
       "      <th>churn_date</th>\n",
       "      <th>city</th>\n",
       "      <th>first_name</th>\n",
       "      <th>last_name</th>\n",
       "      <th>reg_date</th>\n",
       "      <th>tariff</th>\n",
       "    </tr>\n",
       "  </thead>\n",
       "  <tbody>\n",
       "    <tr>\n",
       "      <td>0</td>\n",
       "      <td>1000</td>\n",
       "      <td>52</td>\n",
       "      <td>NaN</td>\n",
       "      <td>Краснодар</td>\n",
       "      <td>Рафаил</td>\n",
       "      <td>Верещагин</td>\n",
       "      <td>2018-05-25</td>\n",
       "      <td>ultra</td>\n",
       "    </tr>\n",
       "    <tr>\n",
       "      <td>1</td>\n",
       "      <td>1001</td>\n",
       "      <td>41</td>\n",
       "      <td>NaN</td>\n",
       "      <td>Москва</td>\n",
       "      <td>Иван</td>\n",
       "      <td>Ежов</td>\n",
       "      <td>2018-11-01</td>\n",
       "      <td>smart</td>\n",
       "    </tr>\n",
       "    <tr>\n",
       "      <td>2</td>\n",
       "      <td>1002</td>\n",
       "      <td>59</td>\n",
       "      <td>NaN</td>\n",
       "      <td>Стерлитамак</td>\n",
       "      <td>Евгений</td>\n",
       "      <td>Абрамович</td>\n",
       "      <td>2018-06-17</td>\n",
       "      <td>smart</td>\n",
       "    </tr>\n",
       "    <tr>\n",
       "      <td>3</td>\n",
       "      <td>1003</td>\n",
       "      <td>23</td>\n",
       "      <td>NaN</td>\n",
       "      <td>Москва</td>\n",
       "      <td>Белла</td>\n",
       "      <td>Белякова</td>\n",
       "      <td>2018-08-17</td>\n",
       "      <td>ultra</td>\n",
       "    </tr>\n",
       "    <tr>\n",
       "      <td>4</td>\n",
       "      <td>1004</td>\n",
       "      <td>68</td>\n",
       "      <td>NaN</td>\n",
       "      <td>Новокузнецк</td>\n",
       "      <td>Татьяна</td>\n",
       "      <td>Авдеенко</td>\n",
       "      <td>2018-05-14</td>\n",
       "      <td>ultra</td>\n",
       "    </tr>\n",
       "  </tbody>\n",
       "</table>\n",
       "</div>"
      ],
      "text/plain": [
       "   user_id  age churn_date         city first_name  last_name    reg_date  \\\n",
       "0     1000   52        NaN    Краснодар     Рафаил  Верещагин  2018-05-25   \n",
       "1     1001   41        NaN       Москва       Иван       Ежов  2018-11-01   \n",
       "2     1002   59        NaN  Стерлитамак    Евгений  Абрамович  2018-06-17   \n",
       "3     1003   23        NaN       Москва      Белла   Белякова  2018-08-17   \n",
       "4     1004   68        NaN  Новокузнецк    Татьяна   Авдеенко  2018-05-14   \n",
       "\n",
       "  tariff  \n",
       "0  ultra  \n",
       "1  smart  \n",
       "2  smart  \n",
       "3  ultra  \n",
       "4  ultra  "
      ]
     },
     "execution_count": 3,
     "metadata": {},
     "output_type": "execute_result"
    }
   ],
   "source": [
    "users.head()"
   ]
  },
  {
   "cell_type": "markdown",
   "metadata": {},
   "source": [
    "***Описание данных***\n",
    "\n",
    "* user_id — уникальный идентификатор пользователя\n",
    "* first_name — имя пользователя\n",
    "* last_name — фамилия пользователя\n",
    "* age — возраст пользователя (годы)\n",
    "* reg_date — дата подключения тарифа (день, месяц, год)\n",
    "* churn_date — дата прекращения пользования тарифом (если значение пропущено, то тариф ещё действовал на момент выгрузки данных)\n",
    "* city — город проживания пользователя\n",
    "* tariff — название тарифного плана"
   ]
  },
  {
   "cell_type": "markdown",
   "metadata": {},
   "source": [
    "***Проверим, данные точно за один год или нет***"
   ]
  },
  {
   "cell_type": "code",
   "execution_count": 4,
   "metadata": {
    "scrolled": true
   },
   "outputs": [
    {
     "name": "stdout",
     "output_type": "stream",
     "text": [
      "2018-01-01\n",
      "2018-12-31\n"
     ]
    }
   ],
   "source": [
    "print(users['reg_date'].min())\n",
    "print(users['reg_date'].max())"
   ]
  },
  {
   "cell_type": "markdown",
   "metadata": {},
   "source": [
    "**Проверим на дубликаты, пропуски и тип данных**"
   ]
  },
  {
   "cell_type": "code",
   "execution_count": 5,
   "metadata": {},
   "outputs": [
    {
     "name": "stdout",
     "output_type": "stream",
     "text": [
      "<class 'pandas.core.frame.DataFrame'>\n",
      "RangeIndex: 500 entries, 0 to 499\n",
      "Data columns (total 8 columns):\n",
      "user_id       500 non-null int64\n",
      "age           500 non-null int64\n",
      "churn_date    38 non-null object\n",
      "city          500 non-null object\n",
      "first_name    500 non-null object\n",
      "last_name     500 non-null object\n",
      "reg_date      500 non-null object\n",
      "tariff        500 non-null object\n",
      "dtypes: int64(2), object(6)\n",
      "memory usage: 31.4+ KB\n"
     ]
    },
    {
     "data": {
      "text/plain": [
       "0"
      ]
     },
     "metadata": {},
     "output_type": "display_data"
    },
    {
     "data": {
      "text/plain": [
       "0.924"
      ]
     },
     "execution_count": 5,
     "metadata": {},
     "output_type": "execute_result"
    }
   ],
   "source": [
    "users.info()\n",
    "display(users.duplicated().sum())\n",
    "users['churn_date'].isna().mean()"
   ]
  },
  {
   "cell_type": "markdown",
   "metadata": {},
   "source": [
    "* В столбце **'churn_date'** практически все значения пропущены, в условии сказано, что если значение пропущено, то тариф ещё действовал на момент выгрузки данных. Будем иметь это в виду и оставим пропуски без изменений.\n",
    "* Дубликатов не обнаружено, это хорошо.\n",
    "* Необходимо заменить тип данных в столбце **'reg_date'** на datetime.\n"
   ]
  },
  {
   "cell_type": "markdown",
   "metadata": {},
   "source": [
    "***Замена типа данных***\n"
   ]
  },
  {
   "cell_type": "code",
   "execution_count": 6,
   "metadata": {},
   "outputs": [],
   "source": [
    "users['reg_date'] = pd.to_datetime(users['reg_date'], format='%Y-%m-%d')"
   ]
  },
  {
   "cell_type": "markdown",
   "metadata": {},
   "source": [
    "***Сгруппируем данные по городам и посмотрим, где тариф наиболее популярен***"
   ]
  },
  {
   "cell_type": "code",
   "execution_count": 7,
   "metadata": {},
   "outputs": [
    {
     "data": {
      "text/html": [
       "<div>\n",
       "<style scoped>\n",
       "    .dataframe tbody tr th:only-of-type {\n",
       "        vertical-align: middle;\n",
       "    }\n",
       "\n",
       "    .dataframe tbody tr th {\n",
       "        vertical-align: top;\n",
       "    }\n",
       "\n",
       "    .dataframe thead th {\n",
       "        text-align: right;\n",
       "    }\n",
       "</style>\n",
       "<table border=\"1\" class=\"dataframe\">\n",
       "  <thead>\n",
       "    <tr style=\"text-align: right;\">\n",
       "      <th></th>\n",
       "      <th>user_id</th>\n",
       "    </tr>\n",
       "    <tr>\n",
       "      <th>city</th>\n",
       "      <th></th>\n",
       "    </tr>\n",
       "  </thead>\n",
       "  <tbody>\n",
       "    <tr>\n",
       "      <td>Москва</td>\n",
       "      <td>99</td>\n",
       "    </tr>\n",
       "    <tr>\n",
       "      <td>Санкт-Петербург</td>\n",
       "      <td>39</td>\n",
       "    </tr>\n",
       "    <tr>\n",
       "      <td>Новосибирск</td>\n",
       "      <td>16</td>\n",
       "    </tr>\n",
       "    <tr>\n",
       "      <td>Казань</td>\n",
       "      <td>14</td>\n",
       "    </tr>\n",
       "    <tr>\n",
       "      <td>Омск</td>\n",
       "      <td>14</td>\n",
       "    </tr>\n",
       "    <tr>\n",
       "      <td>...</td>\n",
       "      <td>...</td>\n",
       "    </tr>\n",
       "    <tr>\n",
       "      <td>Подольск</td>\n",
       "      <td>1</td>\n",
       "    </tr>\n",
       "    <tr>\n",
       "      <td>Химки</td>\n",
       "      <td>1</td>\n",
       "    </tr>\n",
       "    <tr>\n",
       "      <td>Иваново</td>\n",
       "      <td>1</td>\n",
       "    </tr>\n",
       "    <tr>\n",
       "      <td>Нижневартовск</td>\n",
       "      <td>1</td>\n",
       "    </tr>\n",
       "    <tr>\n",
       "      <td>Архангельск</td>\n",
       "      <td>1</td>\n",
       "    </tr>\n",
       "  </tbody>\n",
       "</table>\n",
       "<p>76 rows × 1 columns</p>\n",
       "</div>"
      ],
      "text/plain": [
       "                 user_id\n",
       "city                    \n",
       "Москва                99\n",
       "Санкт-Петербург       39\n",
       "Новосибирск           16\n",
       "Казань                14\n",
       "Омск                  14\n",
       "...                  ...\n",
       "Подольск               1\n",
       "Химки                  1\n",
       "Иваново                1\n",
       "Нижневартовск          1\n",
       "Архангельск            1\n",
       "\n",
       "[76 rows x 1 columns]"
      ]
     },
     "execution_count": 7,
     "metadata": {},
     "output_type": "execute_result"
    }
   ],
   "source": [
    "users_gr = users.pivot_table(index='city', values = 'user_id', aggfunc='count').sort_values(by='user_id', ascending=False)\n",
    "users_gr"
   ]
  },
  {
   "cell_type": "markdown",
   "metadata": {},
   "source": [
    "Как и ожидалось, в Мск и Спб больше всего пользователей, которые используют данный тариф. Надо сказать, что и численность там выше, поэтому данные просто для сведения нам.\n",
    "Интересно, а много городов, где тариф только у одного пользователя?"
   ]
  },
  {
   "cell_type": "code",
   "execution_count": 8,
   "metadata": {},
   "outputs": [
    {
     "data": {
      "text/plain": [
       "user_id    5\n",
       "dtype: int64"
      ]
     },
     "execution_count": 8,
     "metadata": {},
     "output_type": "execute_result"
    }
   ],
   "source": [
    "users_gr.query('user_id == 1').count()"
   ]
  },
  {
   "cell_type": "markdown",
   "metadata": {},
   "source": [
    "Нет, таких городов немного. Проверим также наши данные по возрасту на выбросы или случайные значения с помощью функции describe()\n"
   ]
  },
  {
   "cell_type": "code",
   "execution_count": 9,
   "metadata": {
    "scrolled": true
   },
   "outputs": [
    {
     "data": {
      "text/plain": [
       "count    500.00000\n",
       "mean      46.58800\n",
       "std       16.66763\n",
       "min       18.00000\n",
       "25%       32.00000\n",
       "50%       46.00000\n",
       "75%       62.00000\n",
       "max       75.00000\n",
       "Name: age, dtype: float64"
      ]
     },
     "execution_count": 9,
     "metadata": {},
     "output_type": "execute_result"
    }
   ],
   "source": [
    "users['age'].describe()"
   ]
  },
  {
   "cell_type": "markdown",
   "metadata": {},
   "source": [
    "Все довольно адекватно."
   ]
  },
  {
   "cell_type": "markdown",
   "metadata": {},
   "source": [
    "***Создадим дополнительный столбец с месяцем подключения тарифа***"
   ]
  },
  {
   "cell_type": "code",
   "execution_count": 10,
   "metadata": {},
   "outputs": [
    {
     "data": {
      "text/html": [
       "<div>\n",
       "<style scoped>\n",
       "    .dataframe tbody tr th:only-of-type {\n",
       "        vertical-align: middle;\n",
       "    }\n",
       "\n",
       "    .dataframe tbody tr th {\n",
       "        vertical-align: top;\n",
       "    }\n",
       "\n",
       "    .dataframe thead th {\n",
       "        text-align: right;\n",
       "    }\n",
       "</style>\n",
       "<table border=\"1\" class=\"dataframe\">\n",
       "  <thead>\n",
       "    <tr style=\"text-align: right;\">\n",
       "      <th></th>\n",
       "      <th>user_id</th>\n",
       "      <th>age</th>\n",
       "      <th>churn_date</th>\n",
       "      <th>city</th>\n",
       "      <th>first_name</th>\n",
       "      <th>last_name</th>\n",
       "      <th>reg_date</th>\n",
       "      <th>tariff</th>\n",
       "      <th>month</th>\n",
       "    </tr>\n",
       "  </thead>\n",
       "  <tbody>\n",
       "    <tr>\n",
       "      <td>0</td>\n",
       "      <td>1000</td>\n",
       "      <td>52</td>\n",
       "      <td>NaN</td>\n",
       "      <td>Краснодар</td>\n",
       "      <td>Рафаил</td>\n",
       "      <td>Верещагин</td>\n",
       "      <td>2018-05-25</td>\n",
       "      <td>ultra</td>\n",
       "      <td>2018-05-01</td>\n",
       "    </tr>\n",
       "    <tr>\n",
       "      <td>1</td>\n",
       "      <td>1001</td>\n",
       "      <td>41</td>\n",
       "      <td>NaN</td>\n",
       "      <td>Москва</td>\n",
       "      <td>Иван</td>\n",
       "      <td>Ежов</td>\n",
       "      <td>2018-11-01</td>\n",
       "      <td>smart</td>\n",
       "      <td>2018-11-01</td>\n",
       "    </tr>\n",
       "    <tr>\n",
       "      <td>2</td>\n",
       "      <td>1002</td>\n",
       "      <td>59</td>\n",
       "      <td>NaN</td>\n",
       "      <td>Стерлитамак</td>\n",
       "      <td>Евгений</td>\n",
       "      <td>Абрамович</td>\n",
       "      <td>2018-06-17</td>\n",
       "      <td>smart</td>\n",
       "      <td>2018-06-01</td>\n",
       "    </tr>\n",
       "    <tr>\n",
       "      <td>3</td>\n",
       "      <td>1003</td>\n",
       "      <td>23</td>\n",
       "      <td>NaN</td>\n",
       "      <td>Москва</td>\n",
       "      <td>Белла</td>\n",
       "      <td>Белякова</td>\n",
       "      <td>2018-08-17</td>\n",
       "      <td>ultra</td>\n",
       "      <td>2018-08-01</td>\n",
       "    </tr>\n",
       "    <tr>\n",
       "      <td>4</td>\n",
       "      <td>1004</td>\n",
       "      <td>68</td>\n",
       "      <td>NaN</td>\n",
       "      <td>Новокузнецк</td>\n",
       "      <td>Татьяна</td>\n",
       "      <td>Авдеенко</td>\n",
       "      <td>2018-05-14</td>\n",
       "      <td>ultra</td>\n",
       "      <td>2018-05-01</td>\n",
       "    </tr>\n",
       "  </tbody>\n",
       "</table>\n",
       "</div>"
      ],
      "text/plain": [
       "   user_id  age churn_date         city first_name  last_name   reg_date  \\\n",
       "0     1000   52        NaN    Краснодар     Рафаил  Верещагин 2018-05-25   \n",
       "1     1001   41        NaN       Москва       Иван       Ежов 2018-11-01   \n",
       "2     1002   59        NaN  Стерлитамак    Евгений  Абрамович 2018-06-17   \n",
       "3     1003   23        NaN       Москва      Белла   Белякова 2018-08-17   \n",
       "4     1004   68        NaN  Новокузнецк    Татьяна   Авдеенко 2018-05-14   \n",
       "\n",
       "  tariff      month  \n",
       "0  ultra 2018-05-01  \n",
       "1  smart 2018-11-01  \n",
       "2  smart 2018-06-01  \n",
       "3  ultra 2018-08-01  \n",
       "4  ultra 2018-05-01  "
      ]
     },
     "execution_count": 10,
     "metadata": {},
     "output_type": "execute_result"
    }
   ],
   "source": [
    "users['month'] = users['reg_date'].values.astype('datetime64[M]')\n",
    "\n",
    "users.head()"
   ]
  },
  {
   "cell_type": "markdown",
   "metadata": {},
   "source": [
    "<a id='1.2'></a>\n",
    "### 1.2 Изучим общую информацию по таблице 'calls'\n",
    "\n",
    "**«Мегалайн» всегда округляет вверх значения минут и мегабайтов. Если пользователь проговорил всего 1 секунду, в тарифе засчитывается целая минута.**"
   ]
  },
  {
   "cell_type": "code",
   "execution_count": 11,
   "metadata": {
    "scrolled": true
   },
   "outputs": [
    {
     "data": {
      "text/html": [
       "<div>\n",
       "<style scoped>\n",
       "    .dataframe tbody tr th:only-of-type {\n",
       "        vertical-align: middle;\n",
       "    }\n",
       "\n",
       "    .dataframe tbody tr th {\n",
       "        vertical-align: top;\n",
       "    }\n",
       "\n",
       "    .dataframe thead th {\n",
       "        text-align: right;\n",
       "    }\n",
       "</style>\n",
       "<table border=\"1\" class=\"dataframe\">\n",
       "  <thead>\n",
       "    <tr style=\"text-align: right;\">\n",
       "      <th></th>\n",
       "      <th>id</th>\n",
       "      <th>call_date</th>\n",
       "      <th>duration</th>\n",
       "      <th>user_id</th>\n",
       "    </tr>\n",
       "  </thead>\n",
       "  <tbody>\n",
       "    <tr>\n",
       "      <td>0</td>\n",
       "      <td>1000_0</td>\n",
       "      <td>2018-07-25</td>\n",
       "      <td>0.00</td>\n",
       "      <td>1000</td>\n",
       "    </tr>\n",
       "    <tr>\n",
       "      <td>1</td>\n",
       "      <td>1000_1</td>\n",
       "      <td>2018-08-17</td>\n",
       "      <td>0.00</td>\n",
       "      <td>1000</td>\n",
       "    </tr>\n",
       "    <tr>\n",
       "      <td>2</td>\n",
       "      <td>1000_2</td>\n",
       "      <td>2018-06-11</td>\n",
       "      <td>2.85</td>\n",
       "      <td>1000</td>\n",
       "    </tr>\n",
       "    <tr>\n",
       "      <td>3</td>\n",
       "      <td>1000_3</td>\n",
       "      <td>2018-09-21</td>\n",
       "      <td>13.80</td>\n",
       "      <td>1000</td>\n",
       "    </tr>\n",
       "    <tr>\n",
       "      <td>4</td>\n",
       "      <td>1000_4</td>\n",
       "      <td>2018-12-15</td>\n",
       "      <td>5.18</td>\n",
       "      <td>1000</td>\n",
       "    </tr>\n",
       "  </tbody>\n",
       "</table>\n",
       "</div>"
      ],
      "text/plain": [
       "       id   call_date  duration  user_id\n",
       "0  1000_0  2018-07-25      0.00     1000\n",
       "1  1000_1  2018-08-17      0.00     1000\n",
       "2  1000_2  2018-06-11      2.85     1000\n",
       "3  1000_3  2018-09-21     13.80     1000\n",
       "4  1000_4  2018-12-15      5.18     1000"
      ]
     },
     "execution_count": 11,
     "metadata": {},
     "output_type": "execute_result"
    }
   ],
   "source": [
    "calls.head()"
   ]
  },
  {
   "cell_type": "markdown",
   "metadata": {},
   "source": [
    "***Описание данных***\n",
    "\n",
    "* id — уникальный номер звонка\n",
    "* call_date — дата звонка\n",
    "* duration — длительность звонка в минутах\n",
    "* user_id — идентификатор пользователя, сделавшего звонок"
   ]
  },
  {
   "cell_type": "code",
   "execution_count": 12,
   "metadata": {
    "scrolled": true
   },
   "outputs": [
    {
     "name": "stdout",
     "output_type": "stream",
     "text": [
      "<class 'pandas.core.frame.DataFrame'>\n",
      "RangeIndex: 202607 entries, 0 to 202606\n",
      "Data columns (total 4 columns):\n",
      "id           202607 non-null object\n",
      "call_date    202607 non-null object\n",
      "duration     202607 non-null float64\n",
      "user_id      202607 non-null int64\n",
      "dtypes: float64(1), int64(1), object(2)\n",
      "memory usage: 6.2+ MB\n"
     ]
    },
    {
     "data": {
      "text/plain": [
       "0"
      ]
     },
     "execution_count": 12,
     "metadata": {},
     "output_type": "execute_result"
    }
   ],
   "source": [
    "calls.info()\n",
    "calls.duplicated().sum()"
   ]
  },
  {
   "cell_type": "markdown",
   "metadata": {},
   "source": [
    "* В данной таблице нет пропущенных значений и дубликатов\n",
    "* Столбец **'call_date '** имеет тип данных object, необходимо заменить на дату"
   ]
  },
  {
   "cell_type": "markdown",
   "metadata": {},
   "source": [
    "***Замена типа данных***"
   ]
  },
  {
   "cell_type": "code",
   "execution_count": 13,
   "metadata": {},
   "outputs": [],
   "source": [
    "calls['call_date'] = pd.to_datetime(calls['call_date'], format='%Y-%m-%d')"
   ]
  },
  {
   "cell_type": "markdown",
   "metadata": {},
   "source": [
    "***Изучим внимательнее столбец с данными по длительности звонков 'duration'***\n",
    "\n",
    "- *проверим, насколько много звонков с длительностью в 0,0 минут*\n",
    "- *помним, что сказано в условии - «Мегалайн» всегда округляет вверх значения минут и мегабайтов. Если пользователь проговорил всего 1 секунду, в тарифе засчитывается целая минута."
   ]
  },
  {
   "cell_type": "code",
   "execution_count": 14,
   "metadata": {},
   "outputs": [
    {
     "data": {
      "text/plain": [
       "id           0.195516\n",
       "call_date    0.195516\n",
       "duration     0.195516\n",
       "user_id      0.195516\n",
       "dtype: float64"
      ]
     },
     "execution_count": 14,
     "metadata": {},
     "output_type": "execute_result"
    }
   ],
   "source": [
    "calls.query('duration == 0.00').count()/len(calls)\n"
   ]
  },
  {
   "cell_type": "markdown",
   "metadata": {},
   "source": [
    "* примерно 20% всех звонков по длительности равны 0. Возможно, линия была занята при звонке и он сбросился или связи не было. Стоимость таких звонков 0 руб., для нашего анализа никакими полезными сведениями эти данные не обладают, значит, можно их удалить. (используем метод замены значений и при удалении воспользуемся знакомой функцией dropna())\n",
    "* исходя из условия 'Если пользователь проговорил всего 1 секунду, в тарифе засчитывается целая минута', округлим значения до 1 минуты.\n"
   ]
  },
  {
   "cell_type": "code",
   "execution_count": 15,
   "metadata": {},
   "outputs": [],
   "source": [
    "#удаляем пропущенные значения\n",
    "calls['duration'] = calls['duration'].replace(0, np.NaN)\n",
    "calls = calls.dropna()"
   ]
  },
  {
   "cell_type": "code",
   "execution_count": 16,
   "metadata": {},
   "outputs": [
    {
     "data": {
      "image/png": "[encoded data removed]",
      "text/plain": [
       "<Figure size 864x432 with 1 Axes>"
      ]
     },
     "metadata": {
      "needs_background": "light"
     },
     "output_type": "display_data"
    }
   ],
   "source": [
    "#огругляем к большему значению\n",
    "calls['duration'] = calls['duration'].apply(np.ceil)\n",
    "\n",
    "#визуализируем для наглядности\n",
    "calls['duration'].plot(kind='hist', bins=30, figsize=(12,6), ec='black', color='pink', title='Длительность звонков')\n",
    "plt.xlabel('Длительность зонков, мин.')\n",
    "plt.ylabel('Количество человек')\n",
    "plt.show()"
   ]
  },
  {
   "cell_type": "markdown",
   "metadata": {},
   "source": [
    "***Сгруппируем данные месяцу***"
   ]
  },
  {
   "cell_type": "code",
   "execution_count": 17,
   "metadata": {},
   "outputs": [
    {
     "data": {
      "text/html": [
       "<div>\n",
       "<style scoped>\n",
       "    .dataframe tbody tr th:only-of-type {\n",
       "        vertical-align: middle;\n",
       "    }\n",
       "\n",
       "    .dataframe tbody tr th {\n",
       "        vertical-align: top;\n",
       "    }\n",
       "\n",
       "    .dataframe thead th {\n",
       "        text-align: right;\n",
       "    }\n",
       "</style>\n",
       "<table border=\"1\" class=\"dataframe\">\n",
       "  <thead>\n",
       "    <tr style=\"text-align: right;\">\n",
       "      <th></th>\n",
       "      <th>id</th>\n",
       "      <th>call_date</th>\n",
       "      <th>duration</th>\n",
       "      <th>user_id</th>\n",
       "      <th>month</th>\n",
       "    </tr>\n",
       "  </thead>\n",
       "  <tbody>\n",
       "    <tr>\n",
       "      <td>2</td>\n",
       "      <td>1000_2</td>\n",
       "      <td>2018-06-11</td>\n",
       "      <td>3.0</td>\n",
       "      <td>1000</td>\n",
       "      <td>2018-06-01</td>\n",
       "    </tr>\n",
       "    <tr>\n",
       "      <td>3</td>\n",
       "      <td>1000_3</td>\n",
       "      <td>2018-09-21</td>\n",
       "      <td>14.0</td>\n",
       "      <td>1000</td>\n",
       "      <td>2018-09-01</td>\n",
       "    </tr>\n",
       "    <tr>\n",
       "      <td>4</td>\n",
       "      <td>1000_4</td>\n",
       "      <td>2018-12-15</td>\n",
       "      <td>6.0</td>\n",
       "      <td>1000</td>\n",
       "      <td>2018-12-01</td>\n",
       "    </tr>\n",
       "    <tr>\n",
       "      <td>7</td>\n",
       "      <td>1000_7</td>\n",
       "      <td>2018-08-22</td>\n",
       "      <td>19.0</td>\n",
       "      <td>1000</td>\n",
       "      <td>2018-08-01</td>\n",
       "    </tr>\n",
       "    <tr>\n",
       "      <td>8</td>\n",
       "      <td>1000_8</td>\n",
       "      <td>2018-09-15</td>\n",
       "      <td>19.0</td>\n",
       "      <td>1000</td>\n",
       "      <td>2018-09-01</td>\n",
       "    </tr>\n",
       "  </tbody>\n",
       "</table>\n",
       "</div>"
      ],
      "text/plain": [
       "       id  call_date  duration  user_id      month\n",
       "2  1000_2 2018-06-11       3.0     1000 2018-06-01\n",
       "3  1000_3 2018-09-21      14.0     1000 2018-09-01\n",
       "4  1000_4 2018-12-15       6.0     1000 2018-12-01\n",
       "7  1000_7 2018-08-22      19.0     1000 2018-08-01\n",
       "8  1000_8 2018-09-15      19.0     1000 2018-09-01"
      ]
     },
     "execution_count": 17,
     "metadata": {},
     "output_type": "execute_result"
    }
   ],
   "source": [
    "calls['month'] = calls['call_date'].values.astype('datetime64[M]')\n",
    "calls.head()"
   ]
  },
  {
   "cell_type": "markdown",
   "metadata": {},
   "source": [
    "<a id='1.3'></a>\n",
    "### 1.3 Изучим общую информацию по таблице 'messages'"
   ]
  },
  {
   "cell_type": "code",
   "execution_count": 18,
   "metadata": {},
   "outputs": [
    {
     "data": {
      "text/html": [
       "<div>\n",
       "<style scoped>\n",
       "    .dataframe tbody tr th:only-of-type {\n",
       "        vertical-align: middle;\n",
       "    }\n",
       "\n",
       "    .dataframe tbody tr th {\n",
       "        vertical-align: top;\n",
       "    }\n",
       "\n",
       "    .dataframe thead th {\n",
       "        text-align: right;\n",
       "    }\n",
       "</style>\n",
       "<table border=\"1\" class=\"dataframe\">\n",
       "  <thead>\n",
       "    <tr style=\"text-align: right;\">\n",
       "      <th></th>\n",
       "      <th>id</th>\n",
       "      <th>message_date</th>\n",
       "      <th>user_id</th>\n",
       "    </tr>\n",
       "  </thead>\n",
       "  <tbody>\n",
       "    <tr>\n",
       "      <td>0</td>\n",
       "      <td>1000_0</td>\n",
       "      <td>2018-06-27</td>\n",
       "      <td>1000</td>\n",
       "    </tr>\n",
       "    <tr>\n",
       "      <td>1</td>\n",
       "      <td>1000_1</td>\n",
       "      <td>2018-10-08</td>\n",
       "      <td>1000</td>\n",
       "    </tr>\n",
       "    <tr>\n",
       "      <td>2</td>\n",
       "      <td>1000_2</td>\n",
       "      <td>2018-08-04</td>\n",
       "      <td>1000</td>\n",
       "    </tr>\n",
       "    <tr>\n",
       "      <td>3</td>\n",
       "      <td>1000_3</td>\n",
       "      <td>2018-06-16</td>\n",
       "      <td>1000</td>\n",
       "    </tr>\n",
       "    <tr>\n",
       "      <td>4</td>\n",
       "      <td>1000_4</td>\n",
       "      <td>2018-12-05</td>\n",
       "      <td>1000</td>\n",
       "    </tr>\n",
       "  </tbody>\n",
       "</table>\n",
       "</div>"
      ],
      "text/plain": [
       "       id message_date  user_id\n",
       "0  1000_0   2018-06-27     1000\n",
       "1  1000_1   2018-10-08     1000\n",
       "2  1000_2   2018-08-04     1000\n",
       "3  1000_3   2018-06-16     1000\n",
       "4  1000_4   2018-12-05     1000"
      ]
     },
     "execution_count": 18,
     "metadata": {},
     "output_type": "execute_result"
    }
   ],
   "source": [
    "messages.head()"
   ]
  },
  {
   "cell_type": "markdown",
   "metadata": {},
   "source": [
    "***Описание данных***\n",
    "\n",
    "* id — уникальный номер сообщения\n",
    "* message_date — дата сообщения\n",
    "* user_id — идентификатор пользователя, отправившего сообщение"
   ]
  },
  {
   "cell_type": "code",
   "execution_count": 19,
   "metadata": {},
   "outputs": [
    {
     "name": "stdout",
     "output_type": "stream",
     "text": [
      "<class 'pandas.core.frame.DataFrame'>\n",
      "RangeIndex: 123036 entries, 0 to 123035\n",
      "Data columns (total 3 columns):\n",
      "id              123036 non-null object\n",
      "message_date    123036 non-null object\n",
      "user_id         123036 non-null int64\n",
      "dtypes: int64(1), object(2)\n",
      "memory usage: 2.8+ MB\n"
     ]
    },
    {
     "data": {
      "text/plain": [
       "0"
      ]
     },
     "execution_count": 19,
     "metadata": {},
     "output_type": "execute_result"
    }
   ],
   "source": [
    "messages.info()\n",
    "messages.duplicated().sum()"
   ]
  },
  {
   "cell_type": "markdown",
   "metadata": {},
   "source": [
    "**```Комментарий 3 - 'messages'```**\n",
    "\n",
    "* В таблице 'messages' нет пропущенных значений и дубликатов.\n",
    "* Столбец **'message_date '** имеет тип данных object, необходимо заменить на дату\n",
    "* Добавим новый столбец с месяцем"
   ]
  },
  {
   "cell_type": "markdown",
   "metadata": {},
   "source": [
    "***Замена типа данных***"
   ]
  },
  {
   "cell_type": "code",
   "execution_count": 20,
   "metadata": {},
   "outputs": [],
   "source": [
    "messages['message_date'] = pd.to_datetime(messages['message_date'], format='%Y-%m-%d')"
   ]
  },
  {
   "cell_type": "code",
   "execution_count": 21,
   "metadata": {},
   "outputs": [
    {
     "data": {
      "text/html": [
       "<div>\n",
       "<style scoped>\n",
       "    .dataframe tbody tr th:only-of-type {\n",
       "        vertical-align: middle;\n",
       "    }\n",
       "\n",
       "    .dataframe tbody tr th {\n",
       "        vertical-align: top;\n",
       "    }\n",
       "\n",
       "    .dataframe thead th {\n",
       "        text-align: right;\n",
       "    }\n",
       "</style>\n",
       "<table border=\"1\" class=\"dataframe\">\n",
       "  <thead>\n",
       "    <tr style=\"text-align: right;\">\n",
       "      <th></th>\n",
       "      <th>id</th>\n",
       "      <th>message_date</th>\n",
       "      <th>user_id</th>\n",
       "      <th>month</th>\n",
       "    </tr>\n",
       "  </thead>\n",
       "  <tbody>\n",
       "    <tr>\n",
       "      <td>0</td>\n",
       "      <td>1000_0</td>\n",
       "      <td>2018-06-27</td>\n",
       "      <td>1000</td>\n",
       "      <td>2018-06-01</td>\n",
       "    </tr>\n",
       "    <tr>\n",
       "      <td>1</td>\n",
       "      <td>1000_1</td>\n",
       "      <td>2018-10-08</td>\n",
       "      <td>1000</td>\n",
       "      <td>2018-10-01</td>\n",
       "    </tr>\n",
       "    <tr>\n",
       "      <td>2</td>\n",
       "      <td>1000_2</td>\n",
       "      <td>2018-08-04</td>\n",
       "      <td>1000</td>\n",
       "      <td>2018-08-01</td>\n",
       "    </tr>\n",
       "    <tr>\n",
       "      <td>3</td>\n",
       "      <td>1000_3</td>\n",
       "      <td>2018-06-16</td>\n",
       "      <td>1000</td>\n",
       "      <td>2018-06-01</td>\n",
       "    </tr>\n",
       "    <tr>\n",
       "      <td>4</td>\n",
       "      <td>1000_4</td>\n",
       "      <td>2018-12-05</td>\n",
       "      <td>1000</td>\n",
       "      <td>2018-12-01</td>\n",
       "    </tr>\n",
       "  </tbody>\n",
       "</table>\n",
       "</div>"
      ],
      "text/plain": [
       "       id message_date  user_id      month\n",
       "0  1000_0   2018-06-27     1000 2018-06-01\n",
       "1  1000_1   2018-10-08     1000 2018-10-01\n",
       "2  1000_2   2018-08-04     1000 2018-08-01\n",
       "3  1000_3   2018-06-16     1000 2018-06-01\n",
       "4  1000_4   2018-12-05     1000 2018-12-01"
      ]
     },
     "execution_count": 21,
     "metadata": {},
     "output_type": "execute_result"
    }
   ],
   "source": [
    "messages['month'] = messages['message_date'].values.astype('datetime64[M]')\n",
    "messages.head()\n"
   ]
  },
  {
   "cell_type": "markdown",
   "metadata": {},
   "source": [
    "<a id='1.4'></a>\n",
    "### 1.4 Изучим общую информацию по таблице 'internet'"
   ]
  },
  {
   "cell_type": "code",
   "execution_count": 22,
   "metadata": {},
   "outputs": [
    {
     "data": {
      "text/html": [
       "<div>\n",
       "<style scoped>\n",
       "    .dataframe tbody tr th:only-of-type {\n",
       "        vertical-align: middle;\n",
       "    }\n",
       "\n",
       "    .dataframe tbody tr th {\n",
       "        vertical-align: top;\n",
       "    }\n",
       "\n",
       "    .dataframe thead th {\n",
       "        text-align: right;\n",
       "    }\n",
       "</style>\n",
       "<table border=\"1\" class=\"dataframe\">\n",
       "  <thead>\n",
       "    <tr style=\"text-align: right;\">\n",
       "      <th></th>\n",
       "      <th>Unnamed: 0</th>\n",
       "      <th>id</th>\n",
       "      <th>mb_used</th>\n",
       "      <th>session_date</th>\n",
       "      <th>user_id</th>\n",
       "    </tr>\n",
       "  </thead>\n",
       "  <tbody>\n",
       "    <tr>\n",
       "      <td>0</td>\n",
       "      <td>0</td>\n",
       "      <td>1000_0</td>\n",
       "      <td>112.95</td>\n",
       "      <td>2018-11-25</td>\n",
       "      <td>1000</td>\n",
       "    </tr>\n",
       "    <tr>\n",
       "      <td>1</td>\n",
       "      <td>1</td>\n",
       "      <td>1000_1</td>\n",
       "      <td>1052.81</td>\n",
       "      <td>2018-09-07</td>\n",
       "      <td>1000</td>\n",
       "    </tr>\n",
       "    <tr>\n",
       "      <td>2</td>\n",
       "      <td>2</td>\n",
       "      <td>1000_2</td>\n",
       "      <td>1197.26</td>\n",
       "      <td>2018-06-25</td>\n",
       "      <td>1000</td>\n",
       "    </tr>\n",
       "    <tr>\n",
       "      <td>3</td>\n",
       "      <td>3</td>\n",
       "      <td>1000_3</td>\n",
       "      <td>550.27</td>\n",
       "      <td>2018-08-22</td>\n",
       "      <td>1000</td>\n",
       "    </tr>\n",
       "    <tr>\n",
       "      <td>4</td>\n",
       "      <td>4</td>\n",
       "      <td>1000_4</td>\n",
       "      <td>302.56</td>\n",
       "      <td>2018-09-24</td>\n",
       "      <td>1000</td>\n",
       "    </tr>\n",
       "  </tbody>\n",
       "</table>\n",
       "</div>"
      ],
      "text/plain": [
       "   Unnamed: 0      id  mb_used session_date  user_id\n",
       "0           0  1000_0   112.95   2018-11-25     1000\n",
       "1           1  1000_1  1052.81   2018-09-07     1000\n",
       "2           2  1000_2  1197.26   2018-06-25     1000\n",
       "3           3  1000_3   550.27   2018-08-22     1000\n",
       "4           4  1000_4   302.56   2018-09-24     1000"
      ]
     },
     "execution_count": 22,
     "metadata": {},
     "output_type": "execute_result"
    }
   ],
   "source": [
    "internet.head()"
   ]
  },
  {
   "cell_type": "markdown",
   "metadata": {},
   "source": [
    "***Описание данных***\n",
    "\n",
    "* id — уникальный номер сессии\n",
    "* mb_used — объём потраченного за сессию интернет-трафика (в мегабайтах)\n",
    "* session_date — дата интернет-сессии\n",
    "* user_id — идентификатор пользователя"
   ]
  },
  {
   "cell_type": "code",
   "execution_count": 23,
   "metadata": {},
   "outputs": [
    {
     "name": "stdout",
     "output_type": "stream",
     "text": [
      "<class 'pandas.core.frame.DataFrame'>\n",
      "RangeIndex: 149396 entries, 0 to 149395\n",
      "Data columns (total 5 columns):\n",
      "Unnamed: 0      149396 non-null int64\n",
      "id              149396 non-null object\n",
      "mb_used         149396 non-null float64\n",
      "session_date    149396 non-null object\n",
      "user_id         149396 non-null int64\n",
      "dtypes: float64(1), int64(2), object(2)\n",
      "memory usage: 5.7+ MB\n"
     ]
    },
    {
     "data": {
      "text/plain": [
       "0"
      ]
     },
     "execution_count": 23,
     "metadata": {},
     "output_type": "execute_result"
    }
   ],
   "source": [
    "internet.info()\n",
    "internet.duplicated().sum()"
   ]
  },
  {
   "cell_type": "markdown",
   "metadata": {},
   "source": [
    "* В таблице 'internet' нет пропущенных значений и дубликатов.\n",
    "* Столбец **'session_date'** имеет тип данных object, необходимо заменить на дату.\n",
    "* Из условия известно, что «Мегалайн» всегда округляет вверх значения не только минут, но и мегабайтов, поэтому округлим все значения по столбцу 'mb_used' в большую сторону."
   ]
  },
  {
   "cell_type": "code",
   "execution_count": 24,
   "metadata": {},
   "outputs": [],
   "source": [
    "#Заменим тип данных\n",
    "internet['session_date'] = pd.to_datetime(internet['session_date'], format='%Y-%m-%d')\n",
    "\n",
    "#Округлим значения мегабайтов в большую сторону\n",
    "internet['mb_used'] = internet['mb_used'].apply(np.ceil)"
   ]
  },
  {
   "cell_type": "code",
   "execution_count": 25,
   "metadata": {},
   "outputs": [
    {
     "data": {
      "text/html": [
       "<div>\n",
       "<style scoped>\n",
       "    .dataframe tbody tr th:only-of-type {\n",
       "        vertical-align: middle;\n",
       "    }\n",
       "\n",
       "    .dataframe tbody tr th {\n",
       "        vertical-align: top;\n",
       "    }\n",
       "\n",
       "    .dataframe thead th {\n",
       "        text-align: right;\n",
       "    }\n",
       "</style>\n",
       "<table border=\"1\" class=\"dataframe\">\n",
       "  <thead>\n",
       "    <tr style=\"text-align: right;\">\n",
       "      <th></th>\n",
       "      <th>Unnamed: 0</th>\n",
       "      <th>id</th>\n",
       "      <th>mb_used</th>\n",
       "      <th>session_date</th>\n",
       "      <th>user_id</th>\n",
       "      <th>month</th>\n",
       "    </tr>\n",
       "  </thead>\n",
       "  <tbody>\n",
       "    <tr>\n",
       "      <td>0</td>\n",
       "      <td>0</td>\n",
       "      <td>1000_0</td>\n",
       "      <td>113.0</td>\n",
       "      <td>2018-11-25</td>\n",
       "      <td>1000</td>\n",
       "      <td>2018-11-01</td>\n",
       "    </tr>\n",
       "    <tr>\n",
       "      <td>1</td>\n",
       "      <td>1</td>\n",
       "      <td>1000_1</td>\n",
       "      <td>1053.0</td>\n",
       "      <td>2018-09-07</td>\n",
       "      <td>1000</td>\n",
       "      <td>2018-09-01</td>\n",
       "    </tr>\n",
       "    <tr>\n",
       "      <td>2</td>\n",
       "      <td>2</td>\n",
       "      <td>1000_2</td>\n",
       "      <td>1198.0</td>\n",
       "      <td>2018-06-25</td>\n",
       "      <td>1000</td>\n",
       "      <td>2018-06-01</td>\n",
       "    </tr>\n",
       "    <tr>\n",
       "      <td>3</td>\n",
       "      <td>3</td>\n",
       "      <td>1000_3</td>\n",
       "      <td>551.0</td>\n",
       "      <td>2018-08-22</td>\n",
       "      <td>1000</td>\n",
       "      <td>2018-08-01</td>\n",
       "    </tr>\n",
       "    <tr>\n",
       "      <td>4</td>\n",
       "      <td>4</td>\n",
       "      <td>1000_4</td>\n",
       "      <td>303.0</td>\n",
       "      <td>2018-09-24</td>\n",
       "      <td>1000</td>\n",
       "      <td>2018-09-01</td>\n",
       "    </tr>\n",
       "  </tbody>\n",
       "</table>\n",
       "</div>"
      ],
      "text/plain": [
       "   Unnamed: 0      id  mb_used session_date  user_id      month\n",
       "0           0  1000_0    113.0   2018-11-25     1000 2018-11-01\n",
       "1           1  1000_1   1053.0   2018-09-07     1000 2018-09-01\n",
       "2           2  1000_2   1198.0   2018-06-25     1000 2018-06-01\n",
       "3           3  1000_3    551.0   2018-08-22     1000 2018-08-01\n",
       "4           4  1000_4    303.0   2018-09-24     1000 2018-09-01"
      ]
     },
     "execution_count": 25,
     "metadata": {},
     "output_type": "execute_result"
    }
   ],
   "source": [
    "#Добавим столбец с месяцем\n",
    "\n",
    "internet['month'] = internet['session_date'].values.astype('datetime64[M]')\n",
    "internet.head()"
   ]
  },
  {
   "cell_type": "markdown",
   "metadata": {},
   "source": [
    "<a id='1.5'></a>\n",
    "### 1.5 Изучим общую информацию по таблице 'tariffs'"
   ]
  },
  {
   "cell_type": "code",
   "execution_count": 26,
   "metadata": {},
   "outputs": [
    {
     "data": {
      "text/html": [
       "<div>\n",
       "<style scoped>\n",
       "    .dataframe tbody tr th:only-of-type {\n",
       "        vertical-align: middle;\n",
       "    }\n",
       "\n",
       "    .dataframe tbody tr th {\n",
       "        vertical-align: top;\n",
       "    }\n",
       "\n",
       "    .dataframe thead th {\n",
       "        text-align: right;\n",
       "    }\n",
       "</style>\n",
       "<table border=\"1\" class=\"dataframe\">\n",
       "  <thead>\n",
       "    <tr style=\"text-align: right;\">\n",
       "      <th></th>\n",
       "      <th>messages_included</th>\n",
       "      <th>mb_per_month_included</th>\n",
       "      <th>minutes_included</th>\n",
       "      <th>rub_monthly_fee</th>\n",
       "      <th>rub_per_gb</th>\n",
       "      <th>rub_per_message</th>\n",
       "      <th>rub_per_minute</th>\n",
       "      <th>tariff_name</th>\n",
       "    </tr>\n",
       "  </thead>\n",
       "  <tbody>\n",
       "    <tr>\n",
       "      <td>0</td>\n",
       "      <td>50</td>\n",
       "      <td>15360</td>\n",
       "      <td>500</td>\n",
       "      <td>550</td>\n",
       "      <td>200</td>\n",
       "      <td>3</td>\n",
       "      <td>3</td>\n",
       "      <td>smart</td>\n",
       "    </tr>\n",
       "    <tr>\n",
       "      <td>1</td>\n",
       "      <td>1000</td>\n",
       "      <td>30720</td>\n",
       "      <td>3000</td>\n",
       "      <td>1950</td>\n",
       "      <td>150</td>\n",
       "      <td>1</td>\n",
       "      <td>1</td>\n",
       "      <td>ultra</td>\n",
       "    </tr>\n",
       "  </tbody>\n",
       "</table>\n",
       "</div>"
      ],
      "text/plain": [
       "   messages_included  mb_per_month_included  minutes_included  \\\n",
       "0                 50                  15360               500   \n",
       "1               1000                  30720              3000   \n",
       "\n",
       "   rub_monthly_fee  rub_per_gb  rub_per_message  rub_per_minute tariff_name  \n",
       "0              550         200                3               3       smart  \n",
       "1             1950         150                1               1       ultra  "
      ]
     },
     "execution_count": 26,
     "metadata": {},
     "output_type": "execute_result"
    }
   ],
   "source": [
    "tariffs.head()"
   ]
  },
  {
   "cell_type": "markdown",
   "metadata": {},
   "source": [
    "***Описание данных***\n",
    "\n",
    "* tariff_name — название тарифа\n",
    "* rub_monthly_fee — ежемесячная абонентская плата в рублях\n",
    "* minutes_included — количество минут разговора в месяц, включённых в абонентскую плату\n",
    "* messages_included — количество сообщений в месяц, включённых в абонентскую плату\n",
    "* mb_per_month_included — объём интернет-трафика, включённого в абонентскую плату (в мегабайтах)\n",
    "* rub_per_minute — стоимость минуты разговора сверх тарифного пакета (например, если в тарифе 100 минут разговора в месяц, то со 101 минуты будет взиматься плата)\n",
    "* rub_per_message — стоимость отправки сообщения сверх тарифного пакета\n",
    "* rub_per_gb — стоимость дополнительного гигабайта интернет-трафика сверх тарифного пакета (1 гигабайт = 1024 мегабайта)"
   ]
  },
  {
   "cell_type": "code",
   "execution_count": 27,
   "metadata": {},
   "outputs": [
    {
     "name": "stdout",
     "output_type": "stream",
     "text": [
      "<class 'pandas.core.frame.DataFrame'>\n",
      "RangeIndex: 2 entries, 0 to 1\n",
      "Data columns (total 8 columns):\n",
      "messages_included        2 non-null int64\n",
      "mb_per_month_included    2 non-null int64\n",
      "minutes_included         2 non-null int64\n",
      "rub_monthly_fee          2 non-null int64\n",
      "rub_per_gb               2 non-null int64\n",
      "rub_per_message          2 non-null int64\n",
      "rub_per_minute           2 non-null int64\n",
      "tariff_name              2 non-null object\n",
      "dtypes: int64(7), object(1)\n",
      "memory usage: 256.0+ bytes\n"
     ]
    },
    {
     "data": {
      "text/plain": [
       "0"
      ]
     },
     "execution_count": 27,
     "metadata": {},
     "output_type": "execute_result"
    }
   ],
   "source": [
    "tariffs.info()\n",
    "tariffs.duplicated().sum()"
   ]
  },
  {
   "cell_type": "markdown",
   "metadata": {},
   "source": [
    "* В таблице 'tariffs' нет пропущенных значений и дубликатов, тип данных в столбцах верный. Я так понимаю, что это просто информационная таблица по тарифам, приму к сведению."
   ]
  },
  {
   "cell_type": "markdown",
   "metadata": {},
   "source": [
    "### Вывод"
   ]
  },
  {
   "cell_type": "markdown",
   "metadata": {},
   "source": [
    "* Мы изменили тип данных, где это требовалось\n",
    "* Приняли во внимание механику учета мегабайтов и минут в абонентской плате, огруглив значения в большую сторону\n",
    "* Добавили столбец с месяцем для таблиц"
   ]
  },
  {
   "cell_type": "markdown",
   "metadata": {},
   "source": [
    "<a id='2'></a>\n",
    "# Шаг 2. Добавление новых данных"
   ]
  },
  {
   "cell_type": "markdown",
   "metadata": {},
   "source": [
    "<a id='2.1'></a>\n",
    "### 2.1 Количество сделанных звонков и израсходованных минут разговора по месяцам"
   ]
  },
  {
   "cell_type": "code",
   "execution_count": 28,
   "metadata": {},
   "outputs": [
    {
     "data": {
      "text/html": [
       "<div>\n",
       "<style scoped>\n",
       "    .dataframe tbody tr th:only-of-type {\n",
       "        vertical-align: middle;\n",
       "    }\n",
       "\n",
       "    .dataframe tbody tr th {\n",
       "        vertical-align: top;\n",
       "    }\n",
       "\n",
       "    .dataframe thead th {\n",
       "        text-align: right;\n",
       "    }\n",
       "</style>\n",
       "<table border=\"1\" class=\"dataframe\">\n",
       "  <thead>\n",
       "    <tr style=\"text-align: right;\">\n",
       "      <th></th>\n",
       "      <th>id</th>\n",
       "      <th>call_date</th>\n",
       "      <th>duration</th>\n",
       "      <th>user_id</th>\n",
       "      <th>month</th>\n",
       "    </tr>\n",
       "  </thead>\n",
       "  <tbody>\n",
       "    <tr>\n",
       "      <td>2</td>\n",
       "      <td>1000_2</td>\n",
       "      <td>2018-06-11</td>\n",
       "      <td>3.0</td>\n",
       "      <td>1000</td>\n",
       "      <td>2018-06-01</td>\n",
       "    </tr>\n",
       "    <tr>\n",
       "      <td>3</td>\n",
       "      <td>1000_3</td>\n",
       "      <td>2018-09-21</td>\n",
       "      <td>14.0</td>\n",
       "      <td>1000</td>\n",
       "      <td>2018-09-01</td>\n",
       "    </tr>\n",
       "    <tr>\n",
       "      <td>4</td>\n",
       "      <td>1000_4</td>\n",
       "      <td>2018-12-15</td>\n",
       "      <td>6.0</td>\n",
       "      <td>1000</td>\n",
       "      <td>2018-12-01</td>\n",
       "    </tr>\n",
       "    <tr>\n",
       "      <td>7</td>\n",
       "      <td>1000_7</td>\n",
       "      <td>2018-08-22</td>\n",
       "      <td>19.0</td>\n",
       "      <td>1000</td>\n",
       "      <td>2018-08-01</td>\n",
       "    </tr>\n",
       "    <tr>\n",
       "      <td>8</td>\n",
       "      <td>1000_8</td>\n",
       "      <td>2018-09-15</td>\n",
       "      <td>19.0</td>\n",
       "      <td>1000</td>\n",
       "      <td>2018-09-01</td>\n",
       "    </tr>\n",
       "  </tbody>\n",
       "</table>\n",
       "</div>"
      ],
      "text/plain": [
       "       id  call_date  duration  user_id      month\n",
       "2  1000_2 2018-06-11       3.0     1000 2018-06-01\n",
       "3  1000_3 2018-09-21      14.0     1000 2018-09-01\n",
       "4  1000_4 2018-12-15       6.0     1000 2018-12-01\n",
       "7  1000_7 2018-08-22      19.0     1000 2018-08-01\n",
       "8  1000_8 2018-09-15      19.0     1000 2018-09-01"
      ]
     },
     "execution_count": 28,
     "metadata": {},
     "output_type": "execute_result"
    }
   ],
   "source": [
    "calls.head()"
   ]
  },
  {
   "cell_type": "code",
   "execution_count": 29,
   "metadata": {},
   "outputs": [
    {
     "data": {
      "text/html": [
       "<div>\n",
       "<style scoped>\n",
       "    .dataframe tbody tr th:only-of-type {\n",
       "        vertical-align: middle;\n",
       "    }\n",
       "\n",
       "    .dataframe tbody tr th {\n",
       "        vertical-align: top;\n",
       "    }\n",
       "\n",
       "    .dataframe thead th {\n",
       "        text-align: right;\n",
       "    }\n",
       "</style>\n",
       "<table border=\"1\" class=\"dataframe\">\n",
       "  <thead>\n",
       "    <tr style=\"text-align: right;\">\n",
       "      <th></th>\n",
       "      <th>user_id</th>\n",
       "      <th>month</th>\n",
       "      <th>Количество звонков</th>\n",
       "      <th>Длительность звонков</th>\n",
       "    </tr>\n",
       "  </thead>\n",
       "  <tbody>\n",
       "    <tr>\n",
       "      <td>0</td>\n",
       "      <td>1000</td>\n",
       "      <td>2018-05-01</td>\n",
       "      <td>17</td>\n",
       "      <td>159.0</td>\n",
       "    </tr>\n",
       "    <tr>\n",
       "      <td>1</td>\n",
       "      <td>1000</td>\n",
       "      <td>2018-06-01</td>\n",
       "      <td>28</td>\n",
       "      <td>172.0</td>\n",
       "    </tr>\n",
       "    <tr>\n",
       "      <td>2</td>\n",
       "      <td>1000</td>\n",
       "      <td>2018-07-01</td>\n",
       "      <td>41</td>\n",
       "      <td>340.0</td>\n",
       "    </tr>\n",
       "    <tr>\n",
       "      <td>3</td>\n",
       "      <td>1000</td>\n",
       "      <td>2018-08-01</td>\n",
       "      <td>42</td>\n",
       "      <td>408.0</td>\n",
       "    </tr>\n",
       "    <tr>\n",
       "      <td>4</td>\n",
       "      <td>1000</td>\n",
       "      <td>2018-09-01</td>\n",
       "      <td>46</td>\n",
       "      <td>466.0</td>\n",
       "    </tr>\n",
       "    <tr>\n",
       "      <td>...</td>\n",
       "      <td>...</td>\n",
       "      <td>...</td>\n",
       "      <td>...</td>\n",
       "      <td>...</td>\n",
       "    </tr>\n",
       "    <tr>\n",
       "      <td>3163</td>\n",
       "      <td>1498</td>\n",
       "      <td>2018-10-01</td>\n",
       "      <td>30</td>\n",
       "      <td>247.0</td>\n",
       "    </tr>\n",
       "    <tr>\n",
       "      <td>3164</td>\n",
       "      <td>1499</td>\n",
       "      <td>2018-09-01</td>\n",
       "      <td>8</td>\n",
       "      <td>70.0</td>\n",
       "    </tr>\n",
       "    <tr>\n",
       "      <td>3165</td>\n",
       "      <td>1499</td>\n",
       "      <td>2018-10-01</td>\n",
       "      <td>44</td>\n",
       "      <td>449.0</td>\n",
       "    </tr>\n",
       "    <tr>\n",
       "      <td>3166</td>\n",
       "      <td>1499</td>\n",
       "      <td>2018-11-01</td>\n",
       "      <td>62</td>\n",
       "      <td>612.0</td>\n",
       "    </tr>\n",
       "    <tr>\n",
       "      <td>3167</td>\n",
       "      <td>1499</td>\n",
       "      <td>2018-12-01</td>\n",
       "      <td>56</td>\n",
       "      <td>492.0</td>\n",
       "    </tr>\n",
       "  </tbody>\n",
       "</table>\n",
       "<p>3168 rows × 4 columns</p>\n",
       "</div>"
      ],
      "text/plain": [
       "      user_id      month  Количество звонков  Длительность звонков\n",
       "0        1000 2018-05-01                  17                 159.0\n",
       "1        1000 2018-06-01                  28                 172.0\n",
       "2        1000 2018-07-01                  41                 340.0\n",
       "3        1000 2018-08-01                  42                 408.0\n",
       "4        1000 2018-09-01                  46                 466.0\n",
       "...       ...        ...                 ...                   ...\n",
       "3163     1498 2018-10-01                  30                 247.0\n",
       "3164     1499 2018-09-01                   8                  70.0\n",
       "3165     1499 2018-10-01                  44                 449.0\n",
       "3166     1499 2018-11-01                  62                 612.0\n",
       "3167     1499 2018-12-01                  56                 492.0\n",
       "\n",
       "[3168 rows x 4 columns]"
      ]
     },
     "execution_count": 29,
     "metadata": {},
     "output_type": "execute_result"
    }
   ],
   "source": [
    "calls_info=calls.groupby(['user_id', 'month'])['duration'].agg(['count', 'sum'])\n",
    "calls_info.columns = ['Количество звонков','Длительность звонков']\n",
    "calls_info.reset_index()"
   ]
  },
  {
   "cell_type": "markdown",
   "metadata": {},
   "source": [
    "<a id='2.2'></a>\n",
    "### 2.2 Количество отправленных сообщений по месяцам"
   ]
  },
  {
   "cell_type": "code",
   "execution_count": 30,
   "metadata": {},
   "outputs": [
    {
     "data": {
      "text/html": [
       "<div>\n",
       "<style scoped>\n",
       "    .dataframe tbody tr th:only-of-type {\n",
       "        vertical-align: middle;\n",
       "    }\n",
       "\n",
       "    .dataframe tbody tr th {\n",
       "        vertical-align: top;\n",
       "    }\n",
       "\n",
       "    .dataframe thead th {\n",
       "        text-align: right;\n",
       "    }\n",
       "</style>\n",
       "<table border=\"1\" class=\"dataframe\">\n",
       "  <thead>\n",
       "    <tr style=\"text-align: right;\">\n",
       "      <th></th>\n",
       "      <th>id</th>\n",
       "      <th>message_date</th>\n",
       "      <th>user_id</th>\n",
       "      <th>month</th>\n",
       "    </tr>\n",
       "  </thead>\n",
       "  <tbody>\n",
       "    <tr>\n",
       "      <td>0</td>\n",
       "      <td>1000_0</td>\n",
       "      <td>2018-06-27</td>\n",
       "      <td>1000</td>\n",
       "      <td>2018-06-01</td>\n",
       "    </tr>\n",
       "    <tr>\n",
       "      <td>1</td>\n",
       "      <td>1000_1</td>\n",
       "      <td>2018-10-08</td>\n",
       "      <td>1000</td>\n",
       "      <td>2018-10-01</td>\n",
       "    </tr>\n",
       "    <tr>\n",
       "      <td>2</td>\n",
       "      <td>1000_2</td>\n",
       "      <td>2018-08-04</td>\n",
       "      <td>1000</td>\n",
       "      <td>2018-08-01</td>\n",
       "    </tr>\n",
       "    <tr>\n",
       "      <td>3</td>\n",
       "      <td>1000_3</td>\n",
       "      <td>2018-06-16</td>\n",
       "      <td>1000</td>\n",
       "      <td>2018-06-01</td>\n",
       "    </tr>\n",
       "    <tr>\n",
       "      <td>4</td>\n",
       "      <td>1000_4</td>\n",
       "      <td>2018-12-05</td>\n",
       "      <td>1000</td>\n",
       "      <td>2018-12-01</td>\n",
       "    </tr>\n",
       "  </tbody>\n",
       "</table>\n",
       "</div>"
      ],
      "text/plain": [
       "       id message_date  user_id      month\n",
       "0  1000_0   2018-06-27     1000 2018-06-01\n",
       "1  1000_1   2018-10-08     1000 2018-10-01\n",
       "2  1000_2   2018-08-04     1000 2018-08-01\n",
       "3  1000_3   2018-06-16     1000 2018-06-01\n",
       "4  1000_4   2018-12-05     1000 2018-12-01"
      ]
     },
     "execution_count": 30,
     "metadata": {},
     "output_type": "execute_result"
    }
   ],
   "source": [
    "messages.head()"
   ]
  },
  {
   "cell_type": "code",
   "execution_count": 31,
   "metadata": {},
   "outputs": [
    {
     "data": {
      "text/html": [
       "<div>\n",
       "<style scoped>\n",
       "    .dataframe tbody tr th:only-of-type {\n",
       "        vertical-align: middle;\n",
       "    }\n",
       "\n",
       "    .dataframe tbody tr th {\n",
       "        vertical-align: top;\n",
       "    }\n",
       "\n",
       "    .dataframe thead th {\n",
       "        text-align: right;\n",
       "    }\n",
       "</style>\n",
       "<table border=\"1\" class=\"dataframe\">\n",
       "  <thead>\n",
       "    <tr style=\"text-align: right;\">\n",
       "      <th></th>\n",
       "      <th>user_id</th>\n",
       "      <th>month</th>\n",
       "      <th>Количество сообщений</th>\n",
       "    </tr>\n",
       "  </thead>\n",
       "  <tbody>\n",
       "    <tr>\n",
       "      <td>0</td>\n",
       "      <td>1000</td>\n",
       "      <td>2018-05-01</td>\n",
       "      <td>22</td>\n",
       "    </tr>\n",
       "    <tr>\n",
       "      <td>1</td>\n",
       "      <td>1000</td>\n",
       "      <td>2018-06-01</td>\n",
       "      <td>60</td>\n",
       "    </tr>\n",
       "    <tr>\n",
       "      <td>2</td>\n",
       "      <td>1000</td>\n",
       "      <td>2018-07-01</td>\n",
       "      <td>75</td>\n",
       "    </tr>\n",
       "    <tr>\n",
       "      <td>3</td>\n",
       "      <td>1000</td>\n",
       "      <td>2018-08-01</td>\n",
       "      <td>81</td>\n",
       "    </tr>\n",
       "    <tr>\n",
       "      <td>4</td>\n",
       "      <td>1000</td>\n",
       "      <td>2018-09-01</td>\n",
       "      <td>57</td>\n",
       "    </tr>\n",
       "    <tr>\n",
       "      <td>...</td>\n",
       "      <td>...</td>\n",
       "      <td>...</td>\n",
       "      <td>...</td>\n",
       "    </tr>\n",
       "    <tr>\n",
       "      <td>2712</td>\n",
       "      <td>1498</td>\n",
       "      <td>2018-10-01</td>\n",
       "      <td>42</td>\n",
       "    </tr>\n",
       "    <tr>\n",
       "      <td>2713</td>\n",
       "      <td>1499</td>\n",
       "      <td>2018-09-01</td>\n",
       "      <td>11</td>\n",
       "    </tr>\n",
       "    <tr>\n",
       "      <td>2714</td>\n",
       "      <td>1499</td>\n",
       "      <td>2018-10-01</td>\n",
       "      <td>48</td>\n",
       "    </tr>\n",
       "    <tr>\n",
       "      <td>2715</td>\n",
       "      <td>1499</td>\n",
       "      <td>2018-11-01</td>\n",
       "      <td>59</td>\n",
       "    </tr>\n",
       "    <tr>\n",
       "      <td>2716</td>\n",
       "      <td>1499</td>\n",
       "      <td>2018-12-01</td>\n",
       "      <td>66</td>\n",
       "    </tr>\n",
       "  </tbody>\n",
       "</table>\n",
       "<p>2717 rows × 3 columns</p>\n",
       "</div>"
      ],
      "text/plain": [
       "      user_id      month  Количество сообщений\n",
       "0        1000 2018-05-01                    22\n",
       "1        1000 2018-06-01                    60\n",
       "2        1000 2018-07-01                    75\n",
       "3        1000 2018-08-01                    81\n",
       "4        1000 2018-09-01                    57\n",
       "...       ...        ...                   ...\n",
       "2712     1498 2018-10-01                    42\n",
       "2713     1499 2018-09-01                    11\n",
       "2714     1499 2018-10-01                    48\n",
       "2715     1499 2018-11-01                    59\n",
       "2716     1499 2018-12-01                    66\n",
       "\n",
       "[2717 rows x 3 columns]"
      ]
     },
     "execution_count": 31,
     "metadata": {},
     "output_type": "execute_result"
    }
   ],
   "source": [
    "messages_info=messages.groupby(['user_id', 'month'])['message_date'].agg(['count'])\n",
    "messages_info.columns = ['Количество сообщений']\n",
    "messages_info.reset_index()"
   ]
  },
  {
   "cell_type": "markdown",
   "metadata": {},
   "source": [
    "<a id='2.3'></a>\n",
    "### 2.3 Объем израсходованного интернет-трафика по месяцам"
   ]
  },
  {
   "cell_type": "code",
   "execution_count": 32,
   "metadata": {},
   "outputs": [
    {
     "data": {
      "text/html": [
       "<div>\n",
       "<style scoped>\n",
       "    .dataframe tbody tr th:only-of-type {\n",
       "        vertical-align: middle;\n",
       "    }\n",
       "\n",
       "    .dataframe tbody tr th {\n",
       "        vertical-align: top;\n",
       "    }\n",
       "\n",
       "    .dataframe thead th {\n",
       "        text-align: right;\n",
       "    }\n",
       "</style>\n",
       "<table border=\"1\" class=\"dataframe\">\n",
       "  <thead>\n",
       "    <tr style=\"text-align: right;\">\n",
       "      <th></th>\n",
       "      <th>Unnamed: 0</th>\n",
       "      <th>id</th>\n",
       "      <th>mb_used</th>\n",
       "      <th>session_date</th>\n",
       "      <th>user_id</th>\n",
       "      <th>month</th>\n",
       "    </tr>\n",
       "  </thead>\n",
       "  <tbody>\n",
       "    <tr>\n",
       "      <td>0</td>\n",
       "      <td>0</td>\n",
       "      <td>1000_0</td>\n",
       "      <td>113.0</td>\n",
       "      <td>2018-11-25</td>\n",
       "      <td>1000</td>\n",
       "      <td>2018-11-01</td>\n",
       "    </tr>\n",
       "    <tr>\n",
       "      <td>1</td>\n",
       "      <td>1</td>\n",
       "      <td>1000_1</td>\n",
       "      <td>1053.0</td>\n",
       "      <td>2018-09-07</td>\n",
       "      <td>1000</td>\n",
       "      <td>2018-09-01</td>\n",
       "    </tr>\n",
       "    <tr>\n",
       "      <td>2</td>\n",
       "      <td>2</td>\n",
       "      <td>1000_2</td>\n",
       "      <td>1198.0</td>\n",
       "      <td>2018-06-25</td>\n",
       "      <td>1000</td>\n",
       "      <td>2018-06-01</td>\n",
       "    </tr>\n",
       "    <tr>\n",
       "      <td>3</td>\n",
       "      <td>3</td>\n",
       "      <td>1000_3</td>\n",
       "      <td>551.0</td>\n",
       "      <td>2018-08-22</td>\n",
       "      <td>1000</td>\n",
       "      <td>2018-08-01</td>\n",
       "    </tr>\n",
       "    <tr>\n",
       "      <td>4</td>\n",
       "      <td>4</td>\n",
       "      <td>1000_4</td>\n",
       "      <td>303.0</td>\n",
       "      <td>2018-09-24</td>\n",
       "      <td>1000</td>\n",
       "      <td>2018-09-01</td>\n",
       "    </tr>\n",
       "  </tbody>\n",
       "</table>\n",
       "</div>"
      ],
      "text/plain": [
       "   Unnamed: 0      id  mb_used session_date  user_id      month\n",
       "0           0  1000_0    113.0   2018-11-25     1000 2018-11-01\n",
       "1           1  1000_1   1053.0   2018-09-07     1000 2018-09-01\n",
       "2           2  1000_2   1198.0   2018-06-25     1000 2018-06-01\n",
       "3           3  1000_3    551.0   2018-08-22     1000 2018-08-01\n",
       "4           4  1000_4    303.0   2018-09-24     1000 2018-09-01"
      ]
     },
     "execution_count": 32,
     "metadata": {},
     "output_type": "execute_result"
    }
   ],
   "source": [
    "internet.head()"
   ]
  },
  {
   "cell_type": "code",
   "execution_count": 33,
   "metadata": {},
   "outputs": [
    {
     "data": {
      "text/html": [
       "<div>\n",
       "<style scoped>\n",
       "    .dataframe tbody tr th:only-of-type {\n",
       "        vertical-align: middle;\n",
       "    }\n",
       "\n",
       "    .dataframe tbody tr th {\n",
       "        vertical-align: top;\n",
       "    }\n",
       "\n",
       "    .dataframe thead th {\n",
       "        text-align: right;\n",
       "    }\n",
       "</style>\n",
       "<table border=\"1\" class=\"dataframe\">\n",
       "  <thead>\n",
       "    <tr style=\"text-align: right;\">\n",
       "      <th></th>\n",
       "      <th>user_id</th>\n",
       "      <th>month</th>\n",
       "      <th>Сумма трафика</th>\n",
       "    </tr>\n",
       "  </thead>\n",
       "  <tbody>\n",
       "    <tr>\n",
       "      <td>0</td>\n",
       "      <td>1000</td>\n",
       "      <td>2018-05-01</td>\n",
       "      <td>2256.0</td>\n",
       "    </tr>\n",
       "    <tr>\n",
       "      <td>1</td>\n",
       "      <td>1000</td>\n",
       "      <td>2018-06-01</td>\n",
       "      <td>23257.0</td>\n",
       "    </tr>\n",
       "    <tr>\n",
       "      <td>2</td>\n",
       "      <td>1000</td>\n",
       "      <td>2018-07-01</td>\n",
       "      <td>14016.0</td>\n",
       "    </tr>\n",
       "    <tr>\n",
       "      <td>3</td>\n",
       "      <td>1000</td>\n",
       "      <td>2018-08-01</td>\n",
       "      <td>14070.0</td>\n",
       "    </tr>\n",
       "    <tr>\n",
       "      <td>4</td>\n",
       "      <td>1000</td>\n",
       "      <td>2018-09-01</td>\n",
       "      <td>14581.0</td>\n",
       "    </tr>\n",
       "    <tr>\n",
       "      <td>...</td>\n",
       "      <td>...</td>\n",
       "      <td>...</td>\n",
       "      <td>...</td>\n",
       "    </tr>\n",
       "    <tr>\n",
       "      <td>3198</td>\n",
       "      <td>1498</td>\n",
       "      <td>2018-10-01</td>\n",
       "      <td>20604.0</td>\n",
       "    </tr>\n",
       "    <tr>\n",
       "      <td>3199</td>\n",
       "      <td>1499</td>\n",
       "      <td>2018-09-01</td>\n",
       "      <td>1848.0</td>\n",
       "    </tr>\n",
       "    <tr>\n",
       "      <td>3200</td>\n",
       "      <td>1499</td>\n",
       "      <td>2018-10-01</td>\n",
       "      <td>17809.0</td>\n",
       "    </tr>\n",
       "    <tr>\n",
       "      <td>3201</td>\n",
       "      <td>1499</td>\n",
       "      <td>2018-11-01</td>\n",
       "      <td>17984.0</td>\n",
       "    </tr>\n",
       "    <tr>\n",
       "      <td>3202</td>\n",
       "      <td>1499</td>\n",
       "      <td>2018-12-01</td>\n",
       "      <td>13077.0</td>\n",
       "    </tr>\n",
       "  </tbody>\n",
       "</table>\n",
       "<p>3203 rows × 3 columns</p>\n",
       "</div>"
      ],
      "text/plain": [
       "      user_id      month  Сумма трафика\n",
       "0        1000 2018-05-01         2256.0\n",
       "1        1000 2018-06-01        23257.0\n",
       "2        1000 2018-07-01        14016.0\n",
       "3        1000 2018-08-01        14070.0\n",
       "4        1000 2018-09-01        14581.0\n",
       "...       ...        ...            ...\n",
       "3198     1498 2018-10-01        20604.0\n",
       "3199     1499 2018-09-01         1848.0\n",
       "3200     1499 2018-10-01        17809.0\n",
       "3201     1499 2018-11-01        17984.0\n",
       "3202     1499 2018-12-01        13077.0\n",
       "\n",
       "[3203 rows x 3 columns]"
      ]
     },
     "execution_count": 33,
     "metadata": {},
     "output_type": "execute_result"
    }
   ],
   "source": [
    "internet_info=internet.groupby(['user_id', 'month'])['mb_used'].agg(['sum'])\n",
    "internet_info.columns = ['Сумма трафика']\n",
    "internet_info.reset_index()\n"
   ]
  },
  {
   "cell_type": "markdown",
   "metadata": {},
   "source": [
    "<a id='2.4'></a>\n",
    "### 2.4 Объединим данные в одну общую таблицу"
   ]
  },
  {
   "cell_type": "code",
   "execution_count": 34,
   "metadata": {
    "scrolled": false
   },
   "outputs": [
    {
     "data": {
      "text/html": [
       "<div>\n",
       "<style scoped>\n",
       "    .dataframe tbody tr th:only-of-type {\n",
       "        vertical-align: middle;\n",
       "    }\n",
       "\n",
       "    .dataframe tbody tr th {\n",
       "        vertical-align: top;\n",
       "    }\n",
       "\n",
       "    .dataframe thead th {\n",
       "        text-align: right;\n",
       "    }\n",
       "</style>\n",
       "<table border=\"1\" class=\"dataframe\">\n",
       "  <thead>\n",
       "    <tr style=\"text-align: right;\">\n",
       "      <th></th>\n",
       "      <th>user_id</th>\n",
       "      <th>month</th>\n",
       "      <th>Количество звонков</th>\n",
       "      <th>Длительность звонков</th>\n",
       "      <th>Количество сообщений</th>\n",
       "      <th>Сумма трафика</th>\n",
       "    </tr>\n",
       "  </thead>\n",
       "  <tbody>\n",
       "    <tr>\n",
       "      <td>0</td>\n",
       "      <td>1000</td>\n",
       "      <td>2018-05-01</td>\n",
       "      <td>17.0</td>\n",
       "      <td>159.0</td>\n",
       "      <td>22.0</td>\n",
       "      <td>2256.0</td>\n",
       "    </tr>\n",
       "    <tr>\n",
       "      <td>1</td>\n",
       "      <td>1000</td>\n",
       "      <td>2018-06-01</td>\n",
       "      <td>28.0</td>\n",
       "      <td>172.0</td>\n",
       "      <td>60.0</td>\n",
       "      <td>23257.0</td>\n",
       "    </tr>\n",
       "    <tr>\n",
       "      <td>2</td>\n",
       "      <td>1000</td>\n",
       "      <td>2018-07-01</td>\n",
       "      <td>41.0</td>\n",
       "      <td>340.0</td>\n",
       "      <td>75.0</td>\n",
       "      <td>14016.0</td>\n",
       "    </tr>\n",
       "    <tr>\n",
       "      <td>3</td>\n",
       "      <td>1000</td>\n",
       "      <td>2018-08-01</td>\n",
       "      <td>42.0</td>\n",
       "      <td>408.0</td>\n",
       "      <td>81.0</td>\n",
       "      <td>14070.0</td>\n",
       "    </tr>\n",
       "    <tr>\n",
       "      <td>4</td>\n",
       "      <td>1000</td>\n",
       "      <td>2018-09-01</td>\n",
       "      <td>46.0</td>\n",
       "      <td>466.0</td>\n",
       "      <td>57.0</td>\n",
       "      <td>14581.0</td>\n",
       "    </tr>\n",
       "    <tr>\n",
       "      <td>...</td>\n",
       "      <td>...</td>\n",
       "      <td>...</td>\n",
       "      <td>...</td>\n",
       "      <td>...</td>\n",
       "      <td>...</td>\n",
       "      <td>...</td>\n",
       "    </tr>\n",
       "    <tr>\n",
       "      <td>3209</td>\n",
       "      <td>1498</td>\n",
       "      <td>2018-10-01</td>\n",
       "      <td>30.0</td>\n",
       "      <td>247.0</td>\n",
       "      <td>42.0</td>\n",
       "      <td>20604.0</td>\n",
       "    </tr>\n",
       "    <tr>\n",
       "      <td>3210</td>\n",
       "      <td>1499</td>\n",
       "      <td>2018-09-01</td>\n",
       "      <td>8.0</td>\n",
       "      <td>70.0</td>\n",
       "      <td>11.0</td>\n",
       "      <td>1848.0</td>\n",
       "    </tr>\n",
       "    <tr>\n",
       "      <td>3211</td>\n",
       "      <td>1499</td>\n",
       "      <td>2018-10-01</td>\n",
       "      <td>44.0</td>\n",
       "      <td>449.0</td>\n",
       "      <td>48.0</td>\n",
       "      <td>17809.0</td>\n",
       "    </tr>\n",
       "    <tr>\n",
       "      <td>3212</td>\n",
       "      <td>1499</td>\n",
       "      <td>2018-11-01</td>\n",
       "      <td>62.0</td>\n",
       "      <td>612.0</td>\n",
       "      <td>59.0</td>\n",
       "      <td>17984.0</td>\n",
       "    </tr>\n",
       "    <tr>\n",
       "      <td>3213</td>\n",
       "      <td>1499</td>\n",
       "      <td>2018-12-01</td>\n",
       "      <td>56.0</td>\n",
       "      <td>492.0</td>\n",
       "      <td>66.0</td>\n",
       "      <td>13077.0</td>\n",
       "    </tr>\n",
       "  </tbody>\n",
       "</table>\n",
       "<p>3214 rows × 6 columns</p>\n",
       "</div>"
      ],
      "text/plain": [
       "      user_id      month  Количество звонков  Длительность звонков  \\\n",
       "0        1000 2018-05-01                17.0                 159.0   \n",
       "1        1000 2018-06-01                28.0                 172.0   \n",
       "2        1000 2018-07-01                41.0                 340.0   \n",
       "3        1000 2018-08-01                42.0                 408.0   \n",
       "4        1000 2018-09-01                46.0                 466.0   \n",
       "...       ...        ...                 ...                   ...   \n",
       "3209     1498 2018-10-01                30.0                 247.0   \n",
       "3210     1499 2018-09-01                 8.0                  70.0   \n",
       "3211     1499 2018-10-01                44.0                 449.0   \n",
       "3212     1499 2018-11-01                62.0                 612.0   \n",
       "3213     1499 2018-12-01                56.0                 492.0   \n",
       "\n",
       "      Количество сообщений  Сумма трафика  \n",
       "0                     22.0         2256.0  \n",
       "1                     60.0        23257.0  \n",
       "2                     75.0        14016.0  \n",
       "3                     81.0        14070.0  \n",
       "4                     57.0        14581.0  \n",
       "...                    ...            ...  \n",
       "3209                  42.0        20604.0  \n",
       "3210                  11.0         1848.0  \n",
       "3211                  48.0        17809.0  \n",
       "3212                  59.0        17984.0  \n",
       "3213                  66.0        13077.0  \n",
       "\n",
       "[3214 rows x 6 columns]"
      ]
     },
     "execution_count": 34,
     "metadata": {},
     "output_type": "execute_result"
    }
   ],
   "source": [
    "df = pd.concat([calls_info, messages_info, internet_info], axis=1)\n",
    "df= df.reset_index()\n",
    "df"
   ]
  },
  {
   "cell_type": "code",
   "execution_count": 35,
   "metadata": {
    "scrolled": true
   },
   "outputs": [
    {
     "data": {
      "text/plain": [
       "498"
      ]
     },
     "execution_count": 35,
     "metadata": {},
     "output_type": "execute_result"
    }
   ],
   "source": [
    "df['user_id'].nunique()"
   ]
  },
  {
   "cell_type": "code",
   "execution_count": 36,
   "metadata": {},
   "outputs": [
    {
     "data": {
      "text/plain": [
       "500"
      ]
     },
     "execution_count": 36,
     "metadata": {},
     "output_type": "execute_result"
    }
   ],
   "source": [
    "users['user_id'].nunique()"
   ]
  },
  {
   "cell_type": "code",
   "execution_count": 37,
   "metadata": {},
   "outputs": [
    {
     "data": {
      "text/html": [
       "<div>\n",
       "<style scoped>\n",
       "    .dataframe tbody tr th:only-of-type {\n",
       "        vertical-align: middle;\n",
       "    }\n",
       "\n",
       "    .dataframe tbody tr th {\n",
       "        vertical-align: top;\n",
       "    }\n",
       "\n",
       "    .dataframe thead th {\n",
       "        text-align: right;\n",
       "    }\n",
       "</style>\n",
       "<table border=\"1\" class=\"dataframe\">\n",
       "  <thead>\n",
       "    <tr style=\"text-align: right;\">\n",
       "      <th></th>\n",
       "      <th>user_id</th>\n",
       "      <th>month</th>\n",
       "      <th>Количество звонков</th>\n",
       "      <th>Длительность звонков</th>\n",
       "      <th>Количество сообщений</th>\n",
       "      <th>Сумма трафика</th>\n",
       "      <th>Тариф</th>\n",
       "      <th>Город</th>\n",
       "    </tr>\n",
       "  </thead>\n",
       "  <tbody>\n",
       "    <tr>\n",
       "      <td>0</td>\n",
       "      <td>1000</td>\n",
       "      <td>2018-05-01</td>\n",
       "      <td>17.0</td>\n",
       "      <td>159.0</td>\n",
       "      <td>22.0</td>\n",
       "      <td>2256.0</td>\n",
       "      <td>ultra</td>\n",
       "      <td>Краснодар</td>\n",
       "    </tr>\n",
       "    <tr>\n",
       "      <td>1</td>\n",
       "      <td>1000</td>\n",
       "      <td>2018-06-01</td>\n",
       "      <td>28.0</td>\n",
       "      <td>172.0</td>\n",
       "      <td>60.0</td>\n",
       "      <td>23257.0</td>\n",
       "      <td>ultra</td>\n",
       "      <td>Краснодар</td>\n",
       "    </tr>\n",
       "    <tr>\n",
       "      <td>2</td>\n",
       "      <td>1000</td>\n",
       "      <td>2018-07-01</td>\n",
       "      <td>41.0</td>\n",
       "      <td>340.0</td>\n",
       "      <td>75.0</td>\n",
       "      <td>14016.0</td>\n",
       "      <td>ultra</td>\n",
       "      <td>Краснодар</td>\n",
       "    </tr>\n",
       "    <tr>\n",
       "      <td>3</td>\n",
       "      <td>1000</td>\n",
       "      <td>2018-08-01</td>\n",
       "      <td>42.0</td>\n",
       "      <td>408.0</td>\n",
       "      <td>81.0</td>\n",
       "      <td>14070.0</td>\n",
       "      <td>ultra</td>\n",
       "      <td>Краснодар</td>\n",
       "    </tr>\n",
       "    <tr>\n",
       "      <td>4</td>\n",
       "      <td>1000</td>\n",
       "      <td>2018-09-01</td>\n",
       "      <td>46.0</td>\n",
       "      <td>466.0</td>\n",
       "      <td>57.0</td>\n",
       "      <td>14581.0</td>\n",
       "      <td>ultra</td>\n",
       "      <td>Краснодар</td>\n",
       "    </tr>\n",
       "    <tr>\n",
       "      <td>...</td>\n",
       "      <td>...</td>\n",
       "      <td>...</td>\n",
       "      <td>...</td>\n",
       "      <td>...</td>\n",
       "      <td>...</td>\n",
       "      <td>...</td>\n",
       "      <td>...</td>\n",
       "      <td>...</td>\n",
       "    </tr>\n",
       "    <tr>\n",
       "      <td>3209</td>\n",
       "      <td>1498</td>\n",
       "      <td>2018-10-01</td>\n",
       "      <td>30.0</td>\n",
       "      <td>247.0</td>\n",
       "      <td>42.0</td>\n",
       "      <td>20604.0</td>\n",
       "      <td>smart</td>\n",
       "      <td>Владикавказ</td>\n",
       "    </tr>\n",
       "    <tr>\n",
       "      <td>3210</td>\n",
       "      <td>1499</td>\n",
       "      <td>2018-09-01</td>\n",
       "      <td>8.0</td>\n",
       "      <td>70.0</td>\n",
       "      <td>11.0</td>\n",
       "      <td>1848.0</td>\n",
       "      <td>smart</td>\n",
       "      <td>Пермь</td>\n",
       "    </tr>\n",
       "    <tr>\n",
       "      <td>3211</td>\n",
       "      <td>1499</td>\n",
       "      <td>2018-10-01</td>\n",
       "      <td>44.0</td>\n",
       "      <td>449.0</td>\n",
       "      <td>48.0</td>\n",
       "      <td>17809.0</td>\n",
       "      <td>smart</td>\n",
       "      <td>Пермь</td>\n",
       "    </tr>\n",
       "    <tr>\n",
       "      <td>3212</td>\n",
       "      <td>1499</td>\n",
       "      <td>2018-11-01</td>\n",
       "      <td>62.0</td>\n",
       "      <td>612.0</td>\n",
       "      <td>59.0</td>\n",
       "      <td>17984.0</td>\n",
       "      <td>smart</td>\n",
       "      <td>Пермь</td>\n",
       "    </tr>\n",
       "    <tr>\n",
       "      <td>3213</td>\n",
       "      <td>1499</td>\n",
       "      <td>2018-12-01</td>\n",
       "      <td>56.0</td>\n",
       "      <td>492.0</td>\n",
       "      <td>66.0</td>\n",
       "      <td>13077.0</td>\n",
       "      <td>smart</td>\n",
       "      <td>Пермь</td>\n",
       "    </tr>\n",
       "  </tbody>\n",
       "</table>\n",
       "<p>3214 rows × 8 columns</p>\n",
       "</div>"
      ],
      "text/plain": [
       "      user_id      month  Количество звонков  Длительность звонков  \\\n",
       "0        1000 2018-05-01                17.0                 159.0   \n",
       "1        1000 2018-06-01                28.0                 172.0   \n",
       "2        1000 2018-07-01                41.0                 340.0   \n",
       "3        1000 2018-08-01                42.0                 408.0   \n",
       "4        1000 2018-09-01                46.0                 466.0   \n",
       "...       ...        ...                 ...                   ...   \n",
       "3209     1498 2018-10-01                30.0                 247.0   \n",
       "3210     1499 2018-09-01                 8.0                  70.0   \n",
       "3211     1499 2018-10-01                44.0                 449.0   \n",
       "3212     1499 2018-11-01                62.0                 612.0   \n",
       "3213     1499 2018-12-01                56.0                 492.0   \n",
       "\n",
       "      Количество сообщений  Сумма трафика  Тариф        Город  \n",
       "0                     22.0         2256.0  ultra    Краснодар  \n",
       "1                     60.0        23257.0  ultra    Краснодар  \n",
       "2                     75.0        14016.0  ultra    Краснодар  \n",
       "3                     81.0        14070.0  ultra    Краснодар  \n",
       "4                     57.0        14581.0  ultra    Краснодар  \n",
       "...                    ...            ...    ...          ...  \n",
       "3209                  42.0        20604.0  smart  Владикавказ  \n",
       "3210                  11.0         1848.0  smart        Пермь  \n",
       "3211                  48.0        17809.0  smart        Пермь  \n",
       "3212                  59.0        17984.0  smart        Пермь  \n",
       "3213                  66.0        13077.0  smart        Пермь  \n",
       "\n",
       "[3214 rows x 8 columns]"
      ]
     },
     "execution_count": 37,
     "metadata": {},
     "output_type": "execute_result"
    }
   ],
   "source": [
    "#Добавим тариф\n",
    "t = dict(pd.Series(users['tariff'].values, index=users['user_id']))\n",
    "df['Тариф'] = df['user_id'].map(t)\n",
    "\n",
    "#Добавим город\n",
    "c = dict(pd.Series(users['city'].values, index=users['user_id']))\n",
    "df['Город'] = df['user_id'].map(c)\n",
    "df"
   ]
  },
  {
   "cell_type": "code",
   "execution_count": 38,
   "metadata": {
    "scrolled": true
   },
   "outputs": [
    {
     "name": "stdout",
     "output_type": "stream",
     "text": [
      "<class 'pandas.core.frame.DataFrame'>\n",
      "RangeIndex: 3214 entries, 0 to 3213\n",
      "Data columns (total 8 columns):\n",
      "user_id                 3214 non-null int64\n",
      "month                   3214 non-null datetime64[ns]\n",
      "Количество звонков      3168 non-null float64\n",
      "Длительность звонков    3168 non-null float64\n",
      "Количество сообщений    2717 non-null float64\n",
      "Сумма трафика           3203 non-null float64\n",
      "Тариф                   3214 non-null object\n",
      "Город                   3214 non-null object\n",
      "dtypes: datetime64[ns](1), float64(4), int64(1), object(2)\n",
      "memory usage: 201.0+ KB\n"
     ]
    }
   ],
   "source": [
    "df.info()"
   ]
  },
  {
   "cell_type": "markdown",
   "metadata": {},
   "source": [
    "В общей таблице есть пропуски по звонкам, сообщениям и трафику. Будем считать, что человек просто не пользовался данной функцией и заполним пропуски нулями."
   ]
  },
  {
   "cell_type": "code",
   "execution_count": 39,
   "metadata": {},
   "outputs": [
    {
     "name": "stdout",
     "output_type": "stream",
     "text": [
      "<class 'pandas.core.frame.DataFrame'>\n",
      "RangeIndex: 3214 entries, 0 to 3213\n",
      "Data columns (total 8 columns):\n",
      "user_id                 3214 non-null int64\n",
      "month                   3214 non-null datetime64[ns]\n",
      "Количество звонков      3214 non-null float64\n",
      "Длительность звонков    3214 non-null float64\n",
      "Количество сообщений    3214 non-null float64\n",
      "Сумма трафика           3214 non-null float64\n",
      "Тариф                   3214 non-null object\n",
      "Город                   3214 non-null object\n",
      "dtypes: datetime64[ns](1), float64(4), int64(1), object(2)\n",
      "memory usage: 201.0+ KB\n"
     ]
    }
   ],
   "source": [
    "#Заполним пропуски нулями\n",
    "df = df.fillna(0)\n",
    "df.info()"
   ]
  },
  {
   "cell_type": "markdown",
   "metadata": {},
   "source": [
    "<a id='2.5'></a>\n",
    "### 2.5 Помесячная выручка с каждого пользователя\n"
   ]
  },
  {
   "cell_type": "code",
   "execution_count": 40,
   "metadata": {
    "scrolled": true
   },
   "outputs": [
    {
     "data": {
      "text/html": [
       "<div>\n",
       "<style scoped>\n",
       "    .dataframe tbody tr th:only-of-type {\n",
       "        vertical-align: middle;\n",
       "    }\n",
       "\n",
       "    .dataframe tbody tr th {\n",
       "        vertical-align: top;\n",
       "    }\n",
       "\n",
       "    .dataframe thead th {\n",
       "        text-align: right;\n",
       "    }\n",
       "</style>\n",
       "<table border=\"1\" class=\"dataframe\">\n",
       "  <thead>\n",
       "    <tr style=\"text-align: right;\">\n",
       "      <th></th>\n",
       "      <th>user_id</th>\n",
       "      <th>month</th>\n",
       "      <th>Количество звонков</th>\n",
       "      <th>Длительность звонков</th>\n",
       "      <th>Количество сообщений</th>\n",
       "      <th>Сумма трафика</th>\n",
       "      <th>Тариф</th>\n",
       "      <th>Город</th>\n",
       "    </tr>\n",
       "  </thead>\n",
       "  <tbody>\n",
       "    <tr>\n",
       "      <td>1787</td>\n",
       "      <td>1282</td>\n",
       "      <td>2018-08-01</td>\n",
       "      <td>78.0</td>\n",
       "      <td>672.0</td>\n",
       "      <td>57.0</td>\n",
       "      <td>17294.0</td>\n",
       "      <td>smart</td>\n",
       "      <td>Ульяновск</td>\n",
       "    </tr>\n",
       "    <tr>\n",
       "      <td>2638</td>\n",
       "      <td>1411</td>\n",
       "      <td>2018-10-01</td>\n",
       "      <td>63.0</td>\n",
       "      <td>601.0</td>\n",
       "      <td>103.0</td>\n",
       "      <td>27881.0</td>\n",
       "      <td>smart</td>\n",
       "      <td>Грозный</td>\n",
       "    </tr>\n",
       "    <tr>\n",
       "      <td>1896</td>\n",
       "      <td>1299</td>\n",
       "      <td>2018-04-01</td>\n",
       "      <td>47.0</td>\n",
       "      <td>401.0</td>\n",
       "      <td>62.0</td>\n",
       "      <td>14685.0</td>\n",
       "      <td>smart</td>\n",
       "      <td>Уфа</td>\n",
       "    </tr>\n",
       "    <tr>\n",
       "      <td>1499</td>\n",
       "      <td>1238</td>\n",
       "      <td>2018-01-01</td>\n",
       "      <td>7.0</td>\n",
       "      <td>55.0</td>\n",
       "      <td>34.0</td>\n",
       "      <td>10897.0</td>\n",
       "      <td>smart</td>\n",
       "      <td>Ростов-на-Дону</td>\n",
       "    </tr>\n",
       "    <tr>\n",
       "      <td>2877</td>\n",
       "      <td>1450</td>\n",
       "      <td>2018-10-01</td>\n",
       "      <td>30.0</td>\n",
       "      <td>321.0</td>\n",
       "      <td>47.0</td>\n",
       "      <td>11280.0</td>\n",
       "      <td>smart</td>\n",
       "      <td>Москва</td>\n",
       "    </tr>\n",
       "  </tbody>\n",
       "</table>\n",
       "</div>"
      ],
      "text/plain": [
       "      user_id      month  Количество звонков  Длительность звонков  \\\n",
       "1787     1282 2018-08-01                78.0                 672.0   \n",
       "2638     1411 2018-10-01                63.0                 601.0   \n",
       "1896     1299 2018-04-01                47.0                 401.0   \n",
       "1499     1238 2018-01-01                 7.0                  55.0   \n",
       "2877     1450 2018-10-01                30.0                 321.0   \n",
       "\n",
       "      Количество сообщений  Сумма трафика  Тариф           Город  \n",
       "1787                  57.0        17294.0  smart       Ульяновск  \n",
       "2638                 103.0        27881.0  smart         Грозный  \n",
       "1896                  62.0        14685.0  smart             Уфа  \n",
       "1499                  34.0        10897.0  smart  Ростов-на-Дону  \n",
       "2877                  47.0        11280.0  smart          Москва  "
      ]
     },
     "execution_count": 40,
     "metadata": {},
     "output_type": "execute_result"
    }
   ],
   "source": [
    "df.sample(5)"
   ]
  },
  {
   "cell_type": "markdown",
   "metadata": {},
   "source": [
    "Вспомним условия тарифов\n",
    "\n",
    "Тариф «Смарт»\n",
    "\n",
    "* Ежемесячная плата: 550 рублей\n",
    "* Включено 500 минут разговора, 50 сообщений и 15 Гб интернет-трафика\n",
    "* Стоимость услуг сверх тарифного пакета:\n",
    "* минута разговора: 3 рубля\n",
    "* сообщение: 3 рубля\n",
    "* 1 Гб интернет-трафика: 200 рублей\n",
    "\n",
    "Тариф «Ультра»\n",
    "\n",
    "* Ежемесячная плата: 1950 рублей\n",
    "* Включено 3000 минут разговора, 1000 сообщений и 30 Гб интернет-трафика\n",
    "* Стоимость услуг сверх тарифного пакета:\n",
    "* минута разговора: 1 рубль\n",
    "* сообщение: 1 рубль\n",
    "* 1 Гб интернет-трафика: 150 рублей"
   ]
  },
  {
   "cell_type": "markdown",
   "metadata": {},
   "source": [
    "***Создадим внешние переменные с даными по абонентской плате тарифов***"
   ]
  },
  {
   "cell_type": "code",
   "execution_count": 41,
   "metadata": {},
   "outputs": [],
   "source": [
    "pay_smart = 550\n",
    "pay_ultra = 1950"
   ]
  },
  {
   "cell_type": "markdown",
   "metadata": {},
   "source": [
    "***Напишем функции для расчета оплаты с превышения лимина по звонкам, сообщениям и тарифам***"
   ]
  },
  {
   "cell_type": "code",
   "execution_count": 42,
   "metadata": {
    "scrolled": true
   },
   "outputs": [
    {
     "data": {
      "text/html": [
       "<div>\n",
       "<style scoped>\n",
       "    .dataframe tbody tr th:only-of-type {\n",
       "        vertical-align: middle;\n",
       "    }\n",
       "\n",
       "    .dataframe tbody tr th {\n",
       "        vertical-align: top;\n",
       "    }\n",
       "\n",
       "    .dataframe thead th {\n",
       "        text-align: right;\n",
       "    }\n",
       "</style>\n",
       "<table border=\"1\" class=\"dataframe\">\n",
       "  <thead>\n",
       "    <tr style=\"text-align: right;\">\n",
       "      <th></th>\n",
       "      <th>messages_included</th>\n",
       "      <th>mb_per_month_included</th>\n",
       "      <th>minutes_included</th>\n",
       "      <th>rub_monthly_fee</th>\n",
       "      <th>rub_per_gb</th>\n",
       "      <th>rub_per_message</th>\n",
       "      <th>rub_per_minute</th>\n",
       "      <th>tariff_name</th>\n",
       "    </tr>\n",
       "  </thead>\n",
       "  <tbody>\n",
       "    <tr>\n",
       "      <td>0</td>\n",
       "      <td>50</td>\n",
       "      <td>15360</td>\n",
       "      <td>500</td>\n",
       "      <td>550</td>\n",
       "      <td>200</td>\n",
       "      <td>3</td>\n",
       "      <td>3</td>\n",
       "      <td>smart</td>\n",
       "    </tr>\n",
       "    <tr>\n",
       "      <td>1</td>\n",
       "      <td>1000</td>\n",
       "      <td>30720</td>\n",
       "      <td>3000</td>\n",
       "      <td>1950</td>\n",
       "      <td>150</td>\n",
       "      <td>1</td>\n",
       "      <td>1</td>\n",
       "      <td>ultra</td>\n",
       "    </tr>\n",
       "  </tbody>\n",
       "</table>\n",
       "</div>"
      ],
      "text/plain": [
       "   messages_included  mb_per_month_included  minutes_included  \\\n",
       "0                 50                  15360               500   \n",
       "1               1000                  30720              3000   \n",
       "\n",
       "   rub_monthly_fee  rub_per_gb  rub_per_message  rub_per_minute tariff_name  \n",
       "0              550         200                3               3       smart  \n",
       "1             1950         150                1               1       ultra  "
      ]
     },
     "execution_count": 42,
     "metadata": {},
     "output_type": "execute_result"
    }
   ],
   "source": [
    "tariffs"
   ]
  },
  {
   "cell_type": "code",
   "execution_count": 43,
   "metadata": {},
   "outputs": [
    {
     "data": {
      "text/plain": [
       "500"
      ]
     },
     "execution_count": 43,
     "metadata": {},
     "output_type": "execute_result"
    }
   ],
   "source": [
    "tariffs['minutes_included'][0]"
   ]
  },
  {
   "cell_type": "code",
   "execution_count": 44,
   "metadata": {},
   "outputs": [],
   "source": [
    "def calls_pay(row):\n",
    "    if row['Тариф'] == 'smart':\n",
    "        res = row['Длительность звонков'] - tariffs['minutes_included'][0]\n",
    "        return np.where(res > 0, res, 0)\n",
    "    else:\n",
    "        res = row['Длительность звонков'] - tariffs['minutes_included'][1]\n",
    "        return np.where(res > 0, res, 0)\n",
    "    \n",
    "def messages_pay(row):\n",
    "    if row['Тариф'] == 'smart':\n",
    "        res = row['Количество сообщений'] - tariffs['messages_included'][0]\n",
    "        return np.where(res > 0, res, 0)\n",
    "    else:\n",
    "        res = row['Количество сообщений'] - tariffs['messages_included'][1]\n",
    "        return np.where(res > 0, res, 0)\n",
    "    \n",
    "def internet_pay(row):\n",
    "    if row['Тариф'] == 'smart':\n",
    "        res = row['Сумма трафика'] - tariffs['mb_per_month_included'][0]\n",
    "        return np.where(res > 0, res, 0)\n",
    "    else:\n",
    "        res = row['Сумма трафика'] - tariffs['mb_per_month_included'][1]\n",
    "        return np.where(res > 0, res, 0)"
   ]
  },
  {
   "cell_type": "markdown",
   "metadata": {},
   "source": [
    "***Создадим соответстующие столбцы***"
   ]
  },
  {
   "cell_type": "code",
   "execution_count": 45,
   "metadata": {},
   "outputs": [
    {
     "data": {
      "text/html": [
       "<div>\n",
       "<style scoped>\n",
       "    .dataframe tbody tr th:only-of-type {\n",
       "        vertical-align: middle;\n",
       "    }\n",
       "\n",
       "    .dataframe tbody tr th {\n",
       "        vertical-align: top;\n",
       "    }\n",
       "\n",
       "    .dataframe thead th {\n",
       "        text-align: right;\n",
       "    }\n",
       "</style>\n",
       "<table border=\"1\" class=\"dataframe\">\n",
       "  <thead>\n",
       "    <tr style=\"text-align: right;\">\n",
       "      <th></th>\n",
       "      <th>user_id</th>\n",
       "      <th>month</th>\n",
       "      <th>Количество звонков</th>\n",
       "      <th>Длительность звонков</th>\n",
       "      <th>Количество сообщений</th>\n",
       "      <th>Сумма трафика</th>\n",
       "      <th>Тариф</th>\n",
       "      <th>Город</th>\n",
       "      <th>Минуты сверх лимита</th>\n",
       "      <th>Сообщения сверх лимита</th>\n",
       "      <th>Интернет сверх лимита, Гб</th>\n",
       "    </tr>\n",
       "  </thead>\n",
       "  <tbody>\n",
       "    <tr>\n",
       "      <td>0</td>\n",
       "      <td>1000</td>\n",
       "      <td>2018-05-01</td>\n",
       "      <td>17.0</td>\n",
       "      <td>159.0</td>\n",
       "      <td>22.0</td>\n",
       "      <td>2256.0</td>\n",
       "      <td>ultra</td>\n",
       "      <td>Краснодар</td>\n",
       "      <td>0.0</td>\n",
       "      <td>0.0</td>\n",
       "      <td>0</td>\n",
       "    </tr>\n",
       "    <tr>\n",
       "      <td>1</td>\n",
       "      <td>1000</td>\n",
       "      <td>2018-06-01</td>\n",
       "      <td>28.0</td>\n",
       "      <td>172.0</td>\n",
       "      <td>60.0</td>\n",
       "      <td>23257.0</td>\n",
       "      <td>ultra</td>\n",
       "      <td>Краснодар</td>\n",
       "      <td>0.0</td>\n",
       "      <td>0.0</td>\n",
       "      <td>0</td>\n",
       "    </tr>\n",
       "    <tr>\n",
       "      <td>2</td>\n",
       "      <td>1000</td>\n",
       "      <td>2018-07-01</td>\n",
       "      <td>41.0</td>\n",
       "      <td>340.0</td>\n",
       "      <td>75.0</td>\n",
       "      <td>14016.0</td>\n",
       "      <td>ultra</td>\n",
       "      <td>Краснодар</td>\n",
       "      <td>0.0</td>\n",
       "      <td>0.0</td>\n",
       "      <td>0</td>\n",
       "    </tr>\n",
       "    <tr>\n",
       "      <td>3</td>\n",
       "      <td>1000</td>\n",
       "      <td>2018-08-01</td>\n",
       "      <td>42.0</td>\n",
       "      <td>408.0</td>\n",
       "      <td>81.0</td>\n",
       "      <td>14070.0</td>\n",
       "      <td>ultra</td>\n",
       "      <td>Краснодар</td>\n",
       "      <td>0.0</td>\n",
       "      <td>0.0</td>\n",
       "      <td>0</td>\n",
       "    </tr>\n",
       "    <tr>\n",
       "      <td>4</td>\n",
       "      <td>1000</td>\n",
       "      <td>2018-09-01</td>\n",
       "      <td>46.0</td>\n",
       "      <td>466.0</td>\n",
       "      <td>57.0</td>\n",
       "      <td>14581.0</td>\n",
       "      <td>ultra</td>\n",
       "      <td>Краснодар</td>\n",
       "      <td>0.0</td>\n",
       "      <td>0.0</td>\n",
       "      <td>0</td>\n",
       "    </tr>\n",
       "    <tr>\n",
       "      <td>...</td>\n",
       "      <td>...</td>\n",
       "      <td>...</td>\n",
       "      <td>...</td>\n",
       "      <td>...</td>\n",
       "      <td>...</td>\n",
       "      <td>...</td>\n",
       "      <td>...</td>\n",
       "      <td>...</td>\n",
       "      <td>...</td>\n",
       "      <td>...</td>\n",
       "      <td>...</td>\n",
       "    </tr>\n",
       "    <tr>\n",
       "      <td>3209</td>\n",
       "      <td>1498</td>\n",
       "      <td>2018-10-01</td>\n",
       "      <td>30.0</td>\n",
       "      <td>247.0</td>\n",
       "      <td>42.0</td>\n",
       "      <td>20604.0</td>\n",
       "      <td>smart</td>\n",
       "      <td>Владикавказ</td>\n",
       "      <td>0.0</td>\n",
       "      <td>0.0</td>\n",
       "      <td>6</td>\n",
       "    </tr>\n",
       "    <tr>\n",
       "      <td>3210</td>\n",
       "      <td>1499</td>\n",
       "      <td>2018-09-01</td>\n",
       "      <td>8.0</td>\n",
       "      <td>70.0</td>\n",
       "      <td>11.0</td>\n",
       "      <td>1848.0</td>\n",
       "      <td>smart</td>\n",
       "      <td>Пермь</td>\n",
       "      <td>0.0</td>\n",
       "      <td>0.0</td>\n",
       "      <td>0</td>\n",
       "    </tr>\n",
       "    <tr>\n",
       "      <td>3211</td>\n",
       "      <td>1499</td>\n",
       "      <td>2018-10-01</td>\n",
       "      <td>44.0</td>\n",
       "      <td>449.0</td>\n",
       "      <td>48.0</td>\n",
       "      <td>17809.0</td>\n",
       "      <td>smart</td>\n",
       "      <td>Пермь</td>\n",
       "      <td>0.0</td>\n",
       "      <td>0.0</td>\n",
       "      <td>3</td>\n",
       "    </tr>\n",
       "    <tr>\n",
       "      <td>3212</td>\n",
       "      <td>1499</td>\n",
       "      <td>2018-11-01</td>\n",
       "      <td>62.0</td>\n",
       "      <td>612.0</td>\n",
       "      <td>59.0</td>\n",
       "      <td>17984.0</td>\n",
       "      <td>smart</td>\n",
       "      <td>Пермь</td>\n",
       "      <td>112.0</td>\n",
       "      <td>9.0</td>\n",
       "      <td>3</td>\n",
       "    </tr>\n",
       "    <tr>\n",
       "      <td>3213</td>\n",
       "      <td>1499</td>\n",
       "      <td>2018-12-01</td>\n",
       "      <td>56.0</td>\n",
       "      <td>492.0</td>\n",
       "      <td>66.0</td>\n",
       "      <td>13077.0</td>\n",
       "      <td>smart</td>\n",
       "      <td>Пермь</td>\n",
       "      <td>0.0</td>\n",
       "      <td>16.0</td>\n",
       "      <td>0</td>\n",
       "    </tr>\n",
       "  </tbody>\n",
       "</table>\n",
       "<p>3214 rows × 11 columns</p>\n",
       "</div>"
      ],
      "text/plain": [
       "      user_id      month  Количество звонков  Длительность звонков  \\\n",
       "0        1000 2018-05-01                17.0                 159.0   \n",
       "1        1000 2018-06-01                28.0                 172.0   \n",
       "2        1000 2018-07-01                41.0                 340.0   \n",
       "3        1000 2018-08-01                42.0                 408.0   \n",
       "4        1000 2018-09-01                46.0                 466.0   \n",
       "...       ...        ...                 ...                   ...   \n",
       "3209     1498 2018-10-01                30.0                 247.0   \n",
       "3210     1499 2018-09-01                 8.0                  70.0   \n",
       "3211     1499 2018-10-01                44.0                 449.0   \n",
       "3212     1499 2018-11-01                62.0                 612.0   \n",
       "3213     1499 2018-12-01                56.0                 492.0   \n",
       "\n",
       "      Количество сообщений  Сумма трафика  Тариф        Город  \\\n",
       "0                     22.0         2256.0  ultra    Краснодар   \n",
       "1                     60.0        23257.0  ultra    Краснодар   \n",
       "2                     75.0        14016.0  ultra    Краснодар   \n",
       "3                     81.0        14070.0  ultra    Краснодар   \n",
       "4                     57.0        14581.0  ultra    Краснодар   \n",
       "...                    ...            ...    ...          ...   \n",
       "3209                  42.0        20604.0  smart  Владикавказ   \n",
       "3210                  11.0         1848.0  smart        Пермь   \n",
       "3211                  48.0        17809.0  smart        Пермь   \n",
       "3212                  59.0        17984.0  smart        Пермь   \n",
       "3213                  66.0        13077.0  smart        Пермь   \n",
       "\n",
       "     Минуты сверх лимита Сообщения сверх лимита Интернет сверх лимита, Гб  \n",
       "0                    0.0                    0.0                         0  \n",
       "1                    0.0                    0.0                         0  \n",
       "2                    0.0                    0.0                         0  \n",
       "3                    0.0                    0.0                         0  \n",
       "4                    0.0                    0.0                         0  \n",
       "...                  ...                    ...                       ...  \n",
       "3209                 0.0                    0.0                         6  \n",
       "3210                 0.0                    0.0                         0  \n",
       "3211                 0.0                    0.0                         3  \n",
       "3212               112.0                    9.0                         3  \n",
       "3213                 0.0                   16.0                         0  \n",
       "\n",
       "[3214 rows x 11 columns]"
      ]
     },
     "execution_count": 45,
     "metadata": {},
     "output_type": "execute_result"
    }
   ],
   "source": [
    "df['Минуты сверх лимита'] = df.apply(calls_pay, axis=1)\n",
    "df['Сообщения сверх лимита'] = df.apply(messages_pay, axis=1)\n",
    "df['Интернет сверх лимита, Гб'] = df.apply(internet_pay, axis=1)\n",
    "df['Интернет сверх лимита, Гб'] = (df['Интернет сверх лимита, Гб']/1024).apply(np.ceil)\n",
    "df"
   ]
  },
  {
   "cell_type": "markdown",
   "metadata": {},
   "source": [
    "***Посчитаем выручку от пользования звонками, сообщениями и интернетом сверх лимита***"
   ]
  },
  {
   "cell_type": "code",
   "execution_count": 46,
   "metadata": {},
   "outputs": [
    {
     "data": {
      "text/html": [
       "<div>\n",
       "<style scoped>\n",
       "    .dataframe tbody tr th:only-of-type {\n",
       "        vertical-align: middle;\n",
       "    }\n",
       "\n",
       "    .dataframe tbody tr th {\n",
       "        vertical-align: top;\n",
       "    }\n",
       "\n",
       "    .dataframe thead th {\n",
       "        text-align: right;\n",
       "    }\n",
       "</style>\n",
       "<table border=\"1\" class=\"dataframe\">\n",
       "  <thead>\n",
       "    <tr style=\"text-align: right;\">\n",
       "      <th></th>\n",
       "      <th>messages_included</th>\n",
       "      <th>mb_per_month_included</th>\n",
       "      <th>minutes_included</th>\n",
       "      <th>rub_monthly_fee</th>\n",
       "      <th>rub_per_gb</th>\n",
       "      <th>rub_per_message</th>\n",
       "      <th>rub_per_minute</th>\n",
       "      <th>tariff_name</th>\n",
       "    </tr>\n",
       "  </thead>\n",
       "  <tbody>\n",
       "    <tr>\n",
       "      <td>0</td>\n",
       "      <td>50</td>\n",
       "      <td>15360</td>\n",
       "      <td>500</td>\n",
       "      <td>550</td>\n",
       "      <td>200</td>\n",
       "      <td>3</td>\n",
       "      <td>3</td>\n",
       "      <td>smart</td>\n",
       "    </tr>\n",
       "    <tr>\n",
       "      <td>1</td>\n",
       "      <td>1000</td>\n",
       "      <td>30720</td>\n",
       "      <td>3000</td>\n",
       "      <td>1950</td>\n",
       "      <td>150</td>\n",
       "      <td>1</td>\n",
       "      <td>1</td>\n",
       "      <td>ultra</td>\n",
       "    </tr>\n",
       "  </tbody>\n",
       "</table>\n",
       "</div>"
      ],
      "text/plain": [
       "   messages_included  mb_per_month_included  minutes_included  \\\n",
       "0                 50                  15360               500   \n",
       "1               1000                  30720              3000   \n",
       "\n",
       "   rub_monthly_fee  rub_per_gb  rub_per_message  rub_per_minute tariff_name  \n",
       "0              550         200                3               3       smart  \n",
       "1             1950         150                1               1       ultra  "
      ]
     },
     "execution_count": 46,
     "metadata": {},
     "output_type": "execute_result"
    }
   ],
   "source": [
    "tariffs"
   ]
  },
  {
   "cell_type": "code",
   "execution_count": 47,
   "metadata": {},
   "outputs": [
    {
     "data": {
      "text/html": [
       "<div>\n",
       "<style scoped>\n",
       "    .dataframe tbody tr th:only-of-type {\n",
       "        vertical-align: middle;\n",
       "    }\n",
       "\n",
       "    .dataframe tbody tr th {\n",
       "        vertical-align: top;\n",
       "    }\n",
       "\n",
       "    .dataframe thead th {\n",
       "        text-align: right;\n",
       "    }\n",
       "</style>\n",
       "<table border=\"1\" class=\"dataframe\">\n",
       "  <thead>\n",
       "    <tr style=\"text-align: right;\">\n",
       "      <th></th>\n",
       "      <th>user_id</th>\n",
       "      <th>month</th>\n",
       "      <th>Количество звонков</th>\n",
       "      <th>Длительность звонков</th>\n",
       "      <th>Количество сообщений</th>\n",
       "      <th>Сумма трафика</th>\n",
       "      <th>Тариф</th>\n",
       "      <th>Город</th>\n",
       "      <th>Минуты сверх лимита</th>\n",
       "      <th>Сообщения сверх лимита</th>\n",
       "      <th>Интернет сверх лимита, Гб</th>\n",
       "      <th>Доп. оплата</th>\n",
       "    </tr>\n",
       "  </thead>\n",
       "  <tbody>\n",
       "    <tr>\n",
       "      <td>0</td>\n",
       "      <td>1000</td>\n",
       "      <td>2018-05-01</td>\n",
       "      <td>17.0</td>\n",
       "      <td>159.0</td>\n",
       "      <td>22.0</td>\n",
       "      <td>2256.0</td>\n",
       "      <td>ultra</td>\n",
       "      <td>Краснодар</td>\n",
       "      <td>0.0</td>\n",
       "      <td>0.0</td>\n",
       "      <td>0</td>\n",
       "      <td>0</td>\n",
       "    </tr>\n",
       "    <tr>\n",
       "      <td>1</td>\n",
       "      <td>1000</td>\n",
       "      <td>2018-06-01</td>\n",
       "      <td>28.0</td>\n",
       "      <td>172.0</td>\n",
       "      <td>60.0</td>\n",
       "      <td>23257.0</td>\n",
       "      <td>ultra</td>\n",
       "      <td>Краснодар</td>\n",
       "      <td>0.0</td>\n",
       "      <td>0.0</td>\n",
       "      <td>0</td>\n",
       "      <td>0</td>\n",
       "    </tr>\n",
       "    <tr>\n",
       "      <td>2</td>\n",
       "      <td>1000</td>\n",
       "      <td>2018-07-01</td>\n",
       "      <td>41.0</td>\n",
       "      <td>340.0</td>\n",
       "      <td>75.0</td>\n",
       "      <td>14016.0</td>\n",
       "      <td>ultra</td>\n",
       "      <td>Краснодар</td>\n",
       "      <td>0.0</td>\n",
       "      <td>0.0</td>\n",
       "      <td>0</td>\n",
       "      <td>0</td>\n",
       "    </tr>\n",
       "    <tr>\n",
       "      <td>3</td>\n",
       "      <td>1000</td>\n",
       "      <td>2018-08-01</td>\n",
       "      <td>42.0</td>\n",
       "      <td>408.0</td>\n",
       "      <td>81.0</td>\n",
       "      <td>14070.0</td>\n",
       "      <td>ultra</td>\n",
       "      <td>Краснодар</td>\n",
       "      <td>0.0</td>\n",
       "      <td>0.0</td>\n",
       "      <td>0</td>\n",
       "      <td>0</td>\n",
       "    </tr>\n",
       "    <tr>\n",
       "      <td>4</td>\n",
       "      <td>1000</td>\n",
       "      <td>2018-09-01</td>\n",
       "      <td>46.0</td>\n",
       "      <td>466.0</td>\n",
       "      <td>57.0</td>\n",
       "      <td>14581.0</td>\n",
       "      <td>ultra</td>\n",
       "      <td>Краснодар</td>\n",
       "      <td>0.0</td>\n",
       "      <td>0.0</td>\n",
       "      <td>0</td>\n",
       "      <td>0</td>\n",
       "    </tr>\n",
       "    <tr>\n",
       "      <td>5</td>\n",
       "      <td>1000</td>\n",
       "      <td>2018-10-01</td>\n",
       "      <td>44.0</td>\n",
       "      <td>350.0</td>\n",
       "      <td>73.0</td>\n",
       "      <td>14717.0</td>\n",
       "      <td>ultra</td>\n",
       "      <td>Краснодар</td>\n",
       "      <td>0.0</td>\n",
       "      <td>0.0</td>\n",
       "      <td>0</td>\n",
       "      <td>0</td>\n",
       "    </tr>\n",
       "    <tr>\n",
       "      <td>6</td>\n",
       "      <td>1000</td>\n",
       "      <td>2018-11-01</td>\n",
       "      <td>37.0</td>\n",
       "      <td>338.0</td>\n",
       "      <td>58.0</td>\n",
       "      <td>14768.0</td>\n",
       "      <td>ultra</td>\n",
       "      <td>Краснодар</td>\n",
       "      <td>0.0</td>\n",
       "      <td>0.0</td>\n",
       "      <td>0</td>\n",
       "      <td>0</td>\n",
       "    </tr>\n",
       "    <tr>\n",
       "      <td>7</td>\n",
       "      <td>1000</td>\n",
       "      <td>2018-12-01</td>\n",
       "      <td>38.0</td>\n",
       "      <td>333.0</td>\n",
       "      <td>70.0</td>\n",
       "      <td>9827.0</td>\n",
       "      <td>ultra</td>\n",
       "      <td>Краснодар</td>\n",
       "      <td>0.0</td>\n",
       "      <td>0.0</td>\n",
       "      <td>0</td>\n",
       "      <td>0</td>\n",
       "    </tr>\n",
       "    <tr>\n",
       "      <td>8</td>\n",
       "      <td>1001</td>\n",
       "      <td>2018-11-01</td>\n",
       "      <td>45.0</td>\n",
       "      <td>430.0</td>\n",
       "      <td>0.0</td>\n",
       "      <td>18452.0</td>\n",
       "      <td>smart</td>\n",
       "      <td>Москва</td>\n",
       "      <td>0.0</td>\n",
       "      <td>0.0</td>\n",
       "      <td>4</td>\n",
       "      <td>800</td>\n",
       "    </tr>\n",
       "    <tr>\n",
       "      <td>9</td>\n",
       "      <td>1001</td>\n",
       "      <td>2018-12-01</td>\n",
       "      <td>47.0</td>\n",
       "      <td>414.0</td>\n",
       "      <td>0.0</td>\n",
       "      <td>14053.0</td>\n",
       "      <td>smart</td>\n",
       "      <td>Москва</td>\n",
       "      <td>0.0</td>\n",
       "      <td>0.0</td>\n",
       "      <td>0</td>\n",
       "      <td>0</td>\n",
       "    </tr>\n",
       "  </tbody>\n",
       "</table>\n",
       "</div>"
      ],
      "text/plain": [
       "   user_id      month  Количество звонков  Длительность звонков  \\\n",
       "0     1000 2018-05-01                17.0                 159.0   \n",
       "1     1000 2018-06-01                28.0                 172.0   \n",
       "2     1000 2018-07-01                41.0                 340.0   \n",
       "3     1000 2018-08-01                42.0                 408.0   \n",
       "4     1000 2018-09-01                46.0                 466.0   \n",
       "5     1000 2018-10-01                44.0                 350.0   \n",
       "6     1000 2018-11-01                37.0                 338.0   \n",
       "7     1000 2018-12-01                38.0                 333.0   \n",
       "8     1001 2018-11-01                45.0                 430.0   \n",
       "9     1001 2018-12-01                47.0                 414.0   \n",
       "\n",
       "   Количество сообщений  Сумма трафика  Тариф      Город Минуты сверх лимита  \\\n",
       "0                  22.0         2256.0  ultra  Краснодар                 0.0   \n",
       "1                  60.0        23257.0  ultra  Краснодар                 0.0   \n",
       "2                  75.0        14016.0  ultra  Краснодар                 0.0   \n",
       "3                  81.0        14070.0  ultra  Краснодар                 0.0   \n",
       "4                  57.0        14581.0  ultra  Краснодар                 0.0   \n",
       "5                  73.0        14717.0  ultra  Краснодар                 0.0   \n",
       "6                  58.0        14768.0  ultra  Краснодар                 0.0   \n",
       "7                  70.0         9827.0  ultra  Краснодар                 0.0   \n",
       "8                   0.0        18452.0  smart     Москва                 0.0   \n",
       "9                   0.0        14053.0  smart     Москва                 0.0   \n",
       "\n",
       "  Сообщения сверх лимита Интернет сверх лимита, Гб  Доп. оплата  \n",
       "0                    0.0                         0            0  \n",
       "1                    0.0                         0            0  \n",
       "2                    0.0                         0            0  \n",
       "3                    0.0                         0            0  \n",
       "4                    0.0                         0            0  \n",
       "5                    0.0                         0            0  \n",
       "6                    0.0                         0            0  \n",
       "7                    0.0                         0            0  \n",
       "8                    0.0                         4          800  \n",
       "9                    0.0                         0            0  "
      ]
     },
     "execution_count": 47,
     "metadata": {},
     "output_type": "execute_result"
    }
   ],
   "source": [
    "def revenue(row):\n",
    "    pay = 0\n",
    "    if row['Тариф'] == 'smart':\n",
    "        pay += row['Минуты сверх лимита'] * tariffs['rub_per_minute'][0]\n",
    "        pay += row['Сообщения сверх лимита'] * tariffs['rub_per_message'][0]\n",
    "        pay += row['Интернет сверх лимита, Гб'] * tariffs['rub_per_gb'][0]\n",
    "        return pay\n",
    "    \n",
    "    else:\n",
    "        pay += row['Минуты сверх лимита'] * tariffs['rub_per_minute'][1]\n",
    "        pay += row['Сообщения сверх лимита'] * tariffs['rub_per_message'][1]\n",
    "        pay += row['Интернет сверх лимита, Гб'] * tariffs['rub_per_gb'][1]\n",
    "        return pay\n",
    "    \n",
    "df['Доп. оплата'] = df.apply(revenue, axis=1)\n",
    "df['Доп. оплата'] = df['Доп. оплата'].astype('int')\n",
    "df.head(10)"
   ]
  },
  {
   "cell_type": "markdown",
   "metadata": {},
   "source": [
    "***Посчитаем выручку за месяц для каждого пользователя***"
   ]
  },
  {
   "cell_type": "code",
   "execution_count": 48,
   "metadata": {
    "scrolled": false
   },
   "outputs": [
    {
     "data": {
      "text/html": [
       "<div>\n",
       "<style scoped>\n",
       "    .dataframe tbody tr th:only-of-type {\n",
       "        vertical-align: middle;\n",
       "    }\n",
       "\n",
       "    .dataframe tbody tr th {\n",
       "        vertical-align: top;\n",
       "    }\n",
       "\n",
       "    .dataframe thead th {\n",
       "        text-align: right;\n",
       "    }\n",
       "</style>\n",
       "<table border=\"1\" class=\"dataframe\">\n",
       "  <thead>\n",
       "    <tr style=\"text-align: right;\">\n",
       "      <th></th>\n",
       "      <th>user_id</th>\n",
       "      <th>month</th>\n",
       "      <th>Количество звонков</th>\n",
       "      <th>Длительность звонков</th>\n",
       "      <th>Количество сообщений</th>\n",
       "      <th>Сумма трафика</th>\n",
       "      <th>Тариф</th>\n",
       "      <th>Город</th>\n",
       "      <th>Минуты сверх лимита</th>\n",
       "      <th>Сообщения сверх лимита</th>\n",
       "      <th>Интернет сверх лимита, Гб</th>\n",
       "      <th>Доп. оплата</th>\n",
       "      <th>Выручка за месяц</th>\n",
       "    </tr>\n",
       "  </thead>\n",
       "  <tbody>\n",
       "    <tr>\n",
       "      <td>2011</td>\n",
       "      <td>1318</td>\n",
       "      <td>2018-03-01</td>\n",
       "      <td>31.0</td>\n",
       "      <td>248.0</td>\n",
       "      <td>14.0</td>\n",
       "      <td>4054.0</td>\n",
       "      <td>ultra</td>\n",
       "      <td>Курган</td>\n",
       "      <td>0.0</td>\n",
       "      <td>0.0</td>\n",
       "      <td>0</td>\n",
       "      <td>0</td>\n",
       "      <td>1950</td>\n",
       "    </tr>\n",
       "    <tr>\n",
       "      <td>2503</td>\n",
       "      <td>1392</td>\n",
       "      <td>2018-05-01</td>\n",
       "      <td>35.0</td>\n",
       "      <td>364.0</td>\n",
       "      <td>36.0</td>\n",
       "      <td>15740.0</td>\n",
       "      <td>ultra</td>\n",
       "      <td>Челябинск</td>\n",
       "      <td>0.0</td>\n",
       "      <td>0.0</td>\n",
       "      <td>0</td>\n",
       "      <td>0</td>\n",
       "      <td>1950</td>\n",
       "    </tr>\n",
       "    <tr>\n",
       "      <td>3148</td>\n",
       "      <td>1488</td>\n",
       "      <td>2018-12-01</td>\n",
       "      <td>53.0</td>\n",
       "      <td>444.0</td>\n",
       "      <td>103.0</td>\n",
       "      <td>16533.0</td>\n",
       "      <td>smart</td>\n",
       "      <td>Новороссийск</td>\n",
       "      <td>0.0</td>\n",
       "      <td>53.0</td>\n",
       "      <td>2</td>\n",
       "      <td>559</td>\n",
       "      <td>1109</td>\n",
       "    </tr>\n",
       "    <tr>\n",
       "      <td>1485</td>\n",
       "      <td>1233</td>\n",
       "      <td>2018-06-01</td>\n",
       "      <td>59.0</td>\n",
       "      <td>496.0</td>\n",
       "      <td>22.0</td>\n",
       "      <td>26278.0</td>\n",
       "      <td>smart</td>\n",
       "      <td>Воронеж</td>\n",
       "      <td>0.0</td>\n",
       "      <td>0.0</td>\n",
       "      <td>11</td>\n",
       "      <td>2200</td>\n",
       "      <td>2750</td>\n",
       "    </tr>\n",
       "    <tr>\n",
       "      <td>2282</td>\n",
       "      <td>1361</td>\n",
       "      <td>2018-09-01</td>\n",
       "      <td>21.0</td>\n",
       "      <td>169.0</td>\n",
       "      <td>33.0</td>\n",
       "      <td>22291.0</td>\n",
       "      <td>ultra</td>\n",
       "      <td>Екатеринбург</td>\n",
       "      <td>0.0</td>\n",
       "      <td>0.0</td>\n",
       "      <td>0</td>\n",
       "      <td>0</td>\n",
       "      <td>1950</td>\n",
       "    </tr>\n",
       "  </tbody>\n",
       "</table>\n",
       "</div>"
      ],
      "text/plain": [
       "      user_id      month  Количество звонков  Длительность звонков  \\\n",
       "2011     1318 2018-03-01                31.0                 248.0   \n",
       "2503     1392 2018-05-01                35.0                 364.0   \n",
       "3148     1488 2018-12-01                53.0                 444.0   \n",
       "1485     1233 2018-06-01                59.0                 496.0   \n",
       "2282     1361 2018-09-01                21.0                 169.0   \n",
       "\n",
       "      Количество сообщений  Сумма трафика  Тариф         Город  \\\n",
       "2011                  14.0         4054.0  ultra        Курган   \n",
       "2503                  36.0        15740.0  ultra     Челябинск   \n",
       "3148                 103.0        16533.0  smart  Новороссийск   \n",
       "1485                  22.0        26278.0  smart       Воронеж   \n",
       "2282                  33.0        22291.0  ultra  Екатеринбург   \n",
       "\n",
       "     Минуты сверх лимита Сообщения сверх лимита Интернет сверх лимита, Гб  \\\n",
       "2011                 0.0                    0.0                         0   \n",
       "2503                 0.0                    0.0                         0   \n",
       "3148                 0.0                   53.0                         2   \n",
       "1485                 0.0                    0.0                        11   \n",
       "2282                 0.0                    0.0                         0   \n",
       "\n",
       "      Доп. оплата  Выручка за месяц  \n",
       "2011            0              1950  \n",
       "2503            0              1950  \n",
       "3148          559              1109  \n",
       "1485         2200              2750  \n",
       "2282            0              1950  "
      ]
     },
     "execution_count": 48,
     "metadata": {},
     "output_type": "execute_result"
    }
   ],
   "source": [
    "def revenue_month(row):\n",
    "    if row['Тариф'] == 'smart':\n",
    "        res = row['Доп. оплата'] + pay_smart\n",
    "        return res\n",
    "    else:\n",
    "        res = row['Доп. оплата'] + pay_ultra\n",
    "        return res\n",
    "        \n",
    "df['Выручка за месяц'] = df.apply(revenue_month, axis=1)\n",
    "df.sample(5)"
   ]
  },
  {
   "cell_type": "markdown",
   "metadata": {},
   "source": [
    "Посчитаем общую выручку за год по каждому тарифу"
   ]
  },
  {
   "cell_type": "code",
   "execution_count": 49,
   "metadata": {},
   "outputs": [
    {
     "data": {
      "text/plain": [
       "2040000"
      ]
     },
     "execution_count": 49,
     "metadata": {},
     "output_type": "execute_result"
    }
   ],
   "source": [
    "all_revenue_ultra = df[df['Тариф'] == 'ultra']['Выручка за месяц'].sum()\n",
    "all_revenue_ultra"
   ]
  },
  {
   "cell_type": "code",
   "execution_count": 50,
   "metadata": {},
   "outputs": [
    {
     "data": {
      "text/plain": [
       "2885751"
      ]
     },
     "execution_count": 50,
     "metadata": {},
     "output_type": "execute_result"
    }
   ],
   "source": [
    "all_revenue_smart = df[df['Тариф'] == 'smart']['Выручка за месяц'].sum()\n",
    "all_revenue_smart"
   ]
  },
  {
   "cell_type": "markdown",
   "metadata": {},
   "source": [
    "### Вывод"
   ]
  },
  {
   "cell_type": "markdown",
   "metadata": {},
   "source": [
    "Несмотря на меньшую стоимость, выручка за 2018 год по тарифу Смарт оказалась выше, чем по тарифу Ультра. Возможно, большая часть пользователей использует звонки и сообщения сверх пакета, за счет чего и просодит такая переплата или просто из-за того, что пользователей тарифом Смарт больше."
   ]
  },
  {
   "cell_type": "markdown",
   "metadata": {},
   "source": [
    "<a id='3'></a>\n",
    "# Шаг 3.  Статистический анализ данных\n"
   ]
  },
  {
   "cell_type": "markdown",
   "metadata": {},
   "source": [
    "<a id='3.1'></a>\n",
    "### 3.1 Сколько минут разговора требуется пользователям каждого тарифа в месяц"
   ]
  },
  {
   "cell_type": "code",
   "execution_count": 51,
   "metadata": {
    "scrolled": true
   },
   "outputs": [
    {
     "data": {
      "text/html": [
       "<div>\n",
       "<style scoped>\n",
       "    .dataframe tbody tr th:only-of-type {\n",
       "        vertical-align: middle;\n",
       "    }\n",
       "\n",
       "    .dataframe tbody tr th {\n",
       "        vertical-align: top;\n",
       "    }\n",
       "\n",
       "    .dataframe thead th {\n",
       "        text-align: right;\n",
       "    }\n",
       "</style>\n",
       "<table border=\"1\" class=\"dataframe\">\n",
       "  <thead>\n",
       "    <tr style=\"text-align: right;\">\n",
       "      <th></th>\n",
       "      <th>user_id</th>\n",
       "      <th>month</th>\n",
       "      <th>Количество звонков</th>\n",
       "      <th>Длительность звонков</th>\n",
       "      <th>Количество сообщений</th>\n",
       "      <th>Сумма трафика</th>\n",
       "      <th>Тариф</th>\n",
       "      <th>Город</th>\n",
       "      <th>Минуты сверх лимита</th>\n",
       "      <th>Сообщения сверх лимита</th>\n",
       "      <th>Интернет сверх лимита, Гб</th>\n",
       "      <th>Доп. оплата</th>\n",
       "      <th>Выручка за месяц</th>\n",
       "    </tr>\n",
       "  </thead>\n",
       "  <tbody>\n",
       "    <tr>\n",
       "      <td>2891</td>\n",
       "      <td>1452</td>\n",
       "      <td>2018-12-01</td>\n",
       "      <td>24.0</td>\n",
       "      <td>237.0</td>\n",
       "      <td>54.0</td>\n",
       "      <td>20958.0</td>\n",
       "      <td>ultra</td>\n",
       "      <td>Москва</td>\n",
       "      <td>0.0</td>\n",
       "      <td>0.0</td>\n",
       "      <td>0</td>\n",
       "      <td>0</td>\n",
       "      <td>1950</td>\n",
       "    </tr>\n",
       "    <tr>\n",
       "      <td>2896</td>\n",
       "      <td>1453</td>\n",
       "      <td>2018-05-01</td>\n",
       "      <td>94.0</td>\n",
       "      <td>929.0</td>\n",
       "      <td>54.0</td>\n",
       "      <td>29704.0</td>\n",
       "      <td>ultra</td>\n",
       "      <td>Москва</td>\n",
       "      <td>0.0</td>\n",
       "      <td>0.0</td>\n",
       "      <td>0</td>\n",
       "      <td>0</td>\n",
       "      <td>1950</td>\n",
       "    </tr>\n",
       "    <tr>\n",
       "      <td>2772</td>\n",
       "      <td>1430</td>\n",
       "      <td>2018-09-01</td>\n",
       "      <td>30.0</td>\n",
       "      <td>274.0</td>\n",
       "      <td>34.0</td>\n",
       "      <td>28925.0</td>\n",
       "      <td>ultra</td>\n",
       "      <td>Тверь</td>\n",
       "      <td>0.0</td>\n",
       "      <td>0.0</td>\n",
       "      <td>0</td>\n",
       "      <td>0</td>\n",
       "      <td>1950</td>\n",
       "    </tr>\n",
       "    <tr>\n",
       "      <td>636</td>\n",
       "      <td>1100</td>\n",
       "      <td>2018-09-01</td>\n",
       "      <td>59.0</td>\n",
       "      <td>461.0</td>\n",
       "      <td>49.0</td>\n",
       "      <td>15889.0</td>\n",
       "      <td>smart</td>\n",
       "      <td>Санкт-Петербург</td>\n",
       "      <td>0.0</td>\n",
       "      <td>0.0</td>\n",
       "      <td>1</td>\n",
       "      <td>200</td>\n",
       "      <td>750</td>\n",
       "    </tr>\n",
       "    <tr>\n",
       "      <td>2249</td>\n",
       "      <td>1356</td>\n",
       "      <td>2018-11-01</td>\n",
       "      <td>122.0</td>\n",
       "      <td>1030.0</td>\n",
       "      <td>162.0</td>\n",
       "      <td>23771.0</td>\n",
       "      <td>ultra</td>\n",
       "      <td>Москва</td>\n",
       "      <td>0.0</td>\n",
       "      <td>0.0</td>\n",
       "      <td>0</td>\n",
       "      <td>0</td>\n",
       "      <td>1950</td>\n",
       "    </tr>\n",
       "  </tbody>\n",
       "</table>\n",
       "</div>"
      ],
      "text/plain": [
       "      user_id      month  Количество звонков  Длительность звонков  \\\n",
       "2891     1452 2018-12-01                24.0                 237.0   \n",
       "2896     1453 2018-05-01                94.0                 929.0   \n",
       "2772     1430 2018-09-01                30.0                 274.0   \n",
       "636      1100 2018-09-01                59.0                 461.0   \n",
       "2249     1356 2018-11-01               122.0                1030.0   \n",
       "\n",
       "      Количество сообщений  Сумма трафика  Тариф            Город  \\\n",
       "2891                  54.0        20958.0  ultra           Москва   \n",
       "2896                  54.0        29704.0  ultra           Москва   \n",
       "2772                  34.0        28925.0  ultra            Тверь   \n",
       "636                   49.0        15889.0  smart  Санкт-Петербург   \n",
       "2249                 162.0        23771.0  ultra           Москва   \n",
       "\n",
       "     Минуты сверх лимита Сообщения сверх лимита Интернет сверх лимита, Гб  \\\n",
       "2891                 0.0                    0.0                         0   \n",
       "2896                 0.0                    0.0                         0   \n",
       "2772                 0.0                    0.0                         0   \n",
       "636                  0.0                    0.0                         1   \n",
       "2249                 0.0                    0.0                         0   \n",
       "\n",
       "      Доп. оплата  Выручка за месяц  \n",
       "2891            0              1950  \n",
       "2896            0              1950  \n",
       "2772            0              1950  \n",
       "636           200               750  \n",
       "2249            0              1950  "
      ]
     },
     "execution_count": 51,
     "metadata": {},
     "output_type": "execute_result"
    }
   ],
   "source": [
    "df.sample(5)"
   ]
  },
  {
   "cell_type": "code",
   "execution_count": 52,
   "metadata": {
    "scrolled": false
   },
   "outputs": [],
   "source": [
    "df_ultra = df[df['Тариф'] == 'ultra']\n",
    "df_smart = df[df['Тариф'] == 'smart']"
   ]
  },
  {
   "cell_type": "markdown",
   "metadata": {},
   "source": [
    "***Дисперсия, стандартное отклонение***"
   ]
  },
  {
   "cell_type": "code",
   "execution_count": 53,
   "metadata": {},
   "outputs": [
    {
     "name": "stdout",
     "output_type": "stream",
     "text": [
      "36219.31578434428\n",
      "100873.63339730098\n"
     ]
    }
   ],
   "source": [
    "dispersion_smart = df_smart['Длительность звонков'].var()\n",
    "print(dispersion_smart)\n",
    "dispersion_ultra = df_ultra['Длительность звонков'].var()\n",
    "print(dispersion_ultra)"
   ]
  },
  {
   "cell_type": "code",
   "execution_count": 54,
   "metadata": {},
   "outputs": [
    {
     "name": "stdout",
     "output_type": "stream",
     "text": [
      "190.31372988921288\n",
      "317.6060978591264\n"
     ]
    }
   ],
   "source": [
    "std_smart = df_smart['Длительность звонков'].std()\n",
    "print(std_smart)\n",
    "std_ultra = df_ultra['Длительность звонков'].std()\n",
    "print(std_ultra)"
   ]
  },
  {
   "cell_type": "markdown",
   "metadata": {},
   "source": [
    "***Среднее значение, медиана***"
   ]
  },
  {
   "cell_type": "code",
   "execution_count": 55,
   "metadata": {
    "scrolled": true
   },
   "outputs": [
    {
     "name": "stdout",
     "output_type": "stream",
     "text": [
      "417.9349484073576\n",
      "526.6233502538071\n"
     ]
    }
   ],
   "source": [
    "mean_smart = df_smart['Длительность звонков'].mean()\n",
    "print(mean_smart)\n",
    "mean_ultra = df_ultra['Длительность звонков'].mean()\n",
    "print(mean_ultra)"
   ]
  },
  {
   "cell_type": "code",
   "execution_count": 56,
   "metadata": {},
   "outputs": [
    {
     "name": "stdout",
     "output_type": "stream",
     "text": [
      "422.0\n",
      "518.0\n"
     ]
    }
   ],
   "source": [
    "median_smart = df_smart['Длительность звонков'].median()\n",
    "print(median_smart)\n",
    "median_ultra = df_ultra['Длительность звонков'].median()\n",
    "print(median_ultra)"
   ]
  },
  {
   "cell_type": "markdown",
   "metadata": {},
   "source": [
    "***Построим гистограмму для длительности звонков***"
   ]
  },
  {
   "cell_type": "code",
   "execution_count": 57,
   "metadata": {
    "scrolled": true
   },
   "outputs": [
    {
     "data": {
      "image/png": "[encoded data removed]",
      "text/plain": [
       "<Figure size 864x432 with 1 Axes>"
      ]
     },
     "metadata": {
      "needs_background": "light"
     },
     "output_type": "display_data"
    }
   ],
   "source": [
    "df_smart['Длительность звонков'].plot(kind='hist', bins=40, figsize=(12,6), ec='black', color='pink', label = 'Smart', title='Длительность звонков')\n",
    "df_ultra['Длительность звонков'].plot(kind='hist', bins=40, figsize=(12,6), ec='black', color='yellow', alpha=0.7, label = 'Ultra')\n",
    "plt.legend()\n",
    "plt.xlabel('Длительность зонков, мин.')\n",
    "plt.ylabel('Количество человек')\n",
    "plt.show()"
   ]
  },
  {
   "cell_type": "markdown",
   "metadata": {},
   "source": [
    "### Вывод:\n",
    "\n",
    "В обоих тарифах в среднем при звонках пользователи укладываются в пакетные минуты. Что интересно, в тарифе Ультра в среднем используется только примерно 1/6 часть всех минут, включенных в абонентскую плату.\n"
   ]
  },
  {
   "cell_type": "markdown",
   "metadata": {},
   "source": [
    "<a id='3.2'></a>\n",
    "### 3.2 Сколько сообщений требуется пользователям каждого тарифа в месяц"
   ]
  },
  {
   "cell_type": "code",
   "execution_count": 58,
   "metadata": {
    "scrolled": true
   },
   "outputs": [
    {
     "data": {
      "text/html": [
       "<div>\n",
       "<style scoped>\n",
       "    .dataframe tbody tr th:only-of-type {\n",
       "        vertical-align: middle;\n",
       "    }\n",
       "\n",
       "    .dataframe tbody tr th {\n",
       "        vertical-align: top;\n",
       "    }\n",
       "\n",
       "    .dataframe thead th {\n",
       "        text-align: right;\n",
       "    }\n",
       "</style>\n",
       "<table border=\"1\" class=\"dataframe\">\n",
       "  <thead>\n",
       "    <tr style=\"text-align: right;\">\n",
       "      <th></th>\n",
       "      <th>user_id</th>\n",
       "      <th>month</th>\n",
       "      <th>Количество звонков</th>\n",
       "      <th>Длительность звонков</th>\n",
       "      <th>Количество сообщений</th>\n",
       "      <th>Сумма трафика</th>\n",
       "      <th>Тариф</th>\n",
       "      <th>Город</th>\n",
       "      <th>Минуты сверх лимита</th>\n",
       "      <th>Сообщения сверх лимита</th>\n",
       "      <th>Интернет сверх лимита, Гб</th>\n",
       "      <th>Доп. оплата</th>\n",
       "      <th>Выручка за месяц</th>\n",
       "    </tr>\n",
       "  </thead>\n",
       "  <tbody>\n",
       "    <tr>\n",
       "      <td>2356</td>\n",
       "      <td>1373</td>\n",
       "      <td>2018-11-01</td>\n",
       "      <td>2.0</td>\n",
       "      <td>20.0</td>\n",
       "      <td>41.0</td>\n",
       "      <td>16764.0</td>\n",
       "      <td>smart</td>\n",
       "      <td>Улан-Удэ</td>\n",
       "      <td>0.0</td>\n",
       "      <td>0.0</td>\n",
       "      <td>2</td>\n",
       "      <td>400</td>\n",
       "      <td>950</td>\n",
       "    </tr>\n",
       "    <tr>\n",
       "      <td>2173</td>\n",
       "      <td>1341</td>\n",
       "      <td>2018-12-01</td>\n",
       "      <td>134.0</td>\n",
       "      <td>1233.0</td>\n",
       "      <td>58.0</td>\n",
       "      <td>27259.0</td>\n",
       "      <td>ultra</td>\n",
       "      <td>Москва</td>\n",
       "      <td>0.0</td>\n",
       "      <td>0.0</td>\n",
       "      <td>0</td>\n",
       "      <td>0</td>\n",
       "      <td>1950</td>\n",
       "    </tr>\n",
       "    <tr>\n",
       "      <td>232</td>\n",
       "      <td>1036</td>\n",
       "      <td>2018-08-01</td>\n",
       "      <td>60.0</td>\n",
       "      <td>554.0</td>\n",
       "      <td>3.0</td>\n",
       "      <td>16855.0</td>\n",
       "      <td>smart</td>\n",
       "      <td>Санкт-Петербург</td>\n",
       "      <td>54.0</td>\n",
       "      <td>0.0</td>\n",
       "      <td>2</td>\n",
       "      <td>562</td>\n",
       "      <td>1112</td>\n",
       "    </tr>\n",
       "    <tr>\n",
       "      <td>707</td>\n",
       "      <td>1111</td>\n",
       "      <td>2018-11-01</td>\n",
       "      <td>46.0</td>\n",
       "      <td>347.0</td>\n",
       "      <td>2.0</td>\n",
       "      <td>11412.0</td>\n",
       "      <td>smart</td>\n",
       "      <td>Казань</td>\n",
       "      <td>0.0</td>\n",
       "      <td>0.0</td>\n",
       "      <td>0</td>\n",
       "      <td>0</td>\n",
       "      <td>550</td>\n",
       "    </tr>\n",
       "    <tr>\n",
       "      <td>1133</td>\n",
       "      <td>1177</td>\n",
       "      <td>2018-07-01</td>\n",
       "      <td>46.0</td>\n",
       "      <td>454.0</td>\n",
       "      <td>0.0</td>\n",
       "      <td>15726.0</td>\n",
       "      <td>smart</td>\n",
       "      <td>Новосибирск</td>\n",
       "      <td>0.0</td>\n",
       "      <td>0.0</td>\n",
       "      <td>1</td>\n",
       "      <td>200</td>\n",
       "      <td>750</td>\n",
       "    </tr>\n",
       "  </tbody>\n",
       "</table>\n",
       "</div>"
      ],
      "text/plain": [
       "      user_id      month  Количество звонков  Длительность звонков  \\\n",
       "2356     1373 2018-11-01                 2.0                  20.0   \n",
       "2173     1341 2018-12-01               134.0                1233.0   \n",
       "232      1036 2018-08-01                60.0                 554.0   \n",
       "707      1111 2018-11-01                46.0                 347.0   \n",
       "1133     1177 2018-07-01                46.0                 454.0   \n",
       "\n",
       "      Количество сообщений  Сумма трафика  Тариф            Город  \\\n",
       "2356                  41.0        16764.0  smart         Улан-Удэ   \n",
       "2173                  58.0        27259.0  ultra           Москва   \n",
       "232                    3.0        16855.0  smart  Санкт-Петербург   \n",
       "707                    2.0        11412.0  smart           Казань   \n",
       "1133                   0.0        15726.0  smart      Новосибирск   \n",
       "\n",
       "     Минуты сверх лимита Сообщения сверх лимита Интернет сверх лимита, Гб  \\\n",
       "2356                 0.0                    0.0                         2   \n",
       "2173                 0.0                    0.0                         0   \n",
       "232                 54.0                    0.0                         2   \n",
       "707                  0.0                    0.0                         0   \n",
       "1133                 0.0                    0.0                         1   \n",
       "\n",
       "      Доп. оплата  Выручка за месяц  \n",
       "2356          400               950  \n",
       "2173            0              1950  \n",
       "232           562              1112  \n",
       "707             0               550  \n",
       "1133          200               750  "
      ]
     },
     "execution_count": 58,
     "metadata": {},
     "output_type": "execute_result"
    }
   ],
   "source": [
    "df.sample(5)"
   ]
  },
  {
   "cell_type": "markdown",
   "metadata": {},
   "source": [
    "***Дисперсия, стандартное отклонение***"
   ]
  },
  {
   "cell_type": "code",
   "execution_count": 59,
   "metadata": {},
   "outputs": [
    {
     "name": "stdout",
     "output_type": "stream",
     "text": [
      "796.8129584480083\n",
      "2285.266142544674\n"
     ]
    }
   ],
   "source": [
    "dispersion_smart_sms = df_smart['Количество сообщений'].var()\n",
    "print(dispersion_smart_sms)\n",
    "dispersion_ultra_sms = df_ultra['Количество сообщений'].var()\n",
    "print(dispersion_ultra_sms)"
   ]
  },
  {
   "cell_type": "code",
   "execution_count": 60,
   "metadata": {},
   "outputs": [
    {
     "name": "stdout",
     "output_type": "stream",
     "text": [
      "28.22787555676141\n",
      "47.80445735017472\n"
     ]
    }
   ],
   "source": [
    "std_smart_sms = df_smart['Количество сообщений'].std()\n",
    "print(std_smart_sms)\n",
    "std_ultra_sms = df_ultra['Количество сообщений'].std()\n",
    "print(std_ultra_sms)"
   ]
  },
  {
   "cell_type": "markdown",
   "metadata": {},
   "source": [
    "***Среднее значение, медиана***"
   ]
  },
  {
   "cell_type": "code",
   "execution_count": 61,
   "metadata": {},
   "outputs": [
    {
     "name": "stdout",
     "output_type": "stream",
     "text": [
      "33.384028712427096\n",
      "49.36345177664975\n"
     ]
    }
   ],
   "source": [
    "mean_smart_sms = df_smart['Количество сообщений'].mean()\n",
    "print(mean_smart_sms)\n",
    "mean_ultra_sms = df_ultra['Количество сообщений'].mean()\n",
    "print(mean_ultra_sms)"
   ]
  },
  {
   "cell_type": "code",
   "execution_count": 62,
   "metadata": {},
   "outputs": [
    {
     "name": "stdout",
     "output_type": "stream",
     "text": [
      "28.0\n",
      "38.0\n"
     ]
    }
   ],
   "source": [
    "median_smart_sms = df_smart['Количество сообщений'].median()\n",
    "print(median_smart_sms)\n",
    "median_ultra_sms = df_ultra['Количество сообщений'].median()\n",
    "print(median_ultra_sms)"
   ]
  },
  {
   "cell_type": "markdown",
   "metadata": {},
   "source": [
    "***Построим гистограмму для количества сообщений***"
   ]
  },
  {
   "cell_type": "code",
   "execution_count": 63,
   "metadata": {
    "scrolled": true
   },
   "outputs": [
    {
     "data": {
      "image/png": "[encoded data removed]",
      "text/plain": [
       "<Figure size 864x432 with 1 Axes>"
      ]
     },
     "metadata": {
      "needs_background": "light"
     },
     "output_type": "display_data"
    }
   ],
   "source": [
    "df_smart['Количество сообщений'].plot(kind='hist', bins=40, figsize=(12,6), ec='black', color='pink', label = 'Smart', title='Количество отправленных сообщений')\n",
    "df_ultra['Количество сообщений'].plot(kind='hist', bins=40, figsize=(12,6), ec='black', color='yellow', alpha=0.7, label = 'Ultra')\n",
    "plt.legend()\n",
    "plt.xlabel('Количество сообщений, ед.')\n",
    "plt.ylabel('Количество человек')\n",
    "plt.show()"
   ]
  },
  {
   "cell_type": "markdown",
   "metadata": {},
   "source": [
    "### Вывод\n",
    "\n",
    "В обоих тарифах большая часть пользователей практически не использует сообщения как средство связи, а из тех, кто пользуется в среднем все укладываются в пакет своей абонентской платы. И снова, пользователи тарифа Ультра практически не используют возможности по количеству бесплатных сообщений, включенных в аб. плату."
   ]
  },
  {
   "cell_type": "markdown",
   "metadata": {},
   "source": [
    "<a id='3.3'></a>\n",
    "### 3.3 Какой объём интернет-трафика требуется пользователям каждого тарифа в месяц"
   ]
  },
  {
   "cell_type": "code",
   "execution_count": 64,
   "metadata": {},
   "outputs": [
    {
     "data": {
      "text/html": [
       "<div>\n",
       "<style scoped>\n",
       "    .dataframe tbody tr th:only-of-type {\n",
       "        vertical-align: middle;\n",
       "    }\n",
       "\n",
       "    .dataframe tbody tr th {\n",
       "        vertical-align: top;\n",
       "    }\n",
       "\n",
       "    .dataframe thead th {\n",
       "        text-align: right;\n",
       "    }\n",
       "</style>\n",
       "<table border=\"1\" class=\"dataframe\">\n",
       "  <thead>\n",
       "    <tr style=\"text-align: right;\">\n",
       "      <th></th>\n",
       "      <th>user_id</th>\n",
       "      <th>month</th>\n",
       "      <th>Количество звонков</th>\n",
       "      <th>Длительность звонков</th>\n",
       "      <th>Количество сообщений</th>\n",
       "      <th>Сумма трафика</th>\n",
       "      <th>Тариф</th>\n",
       "      <th>Город</th>\n",
       "      <th>Минуты сверх лимита</th>\n",
       "      <th>Сообщения сверх лимита</th>\n",
       "      <th>Интернет сверх лимита, Гб</th>\n",
       "      <th>Доп. оплата</th>\n",
       "      <th>Выручка за месяц</th>\n",
       "    </tr>\n",
       "  </thead>\n",
       "  <tbody>\n",
       "    <tr>\n",
       "      <td>2429</td>\n",
       "      <td>1381</td>\n",
       "      <td>2018-07-01</td>\n",
       "      <td>86.0</td>\n",
       "      <td>673.0</td>\n",
       "      <td>29.0</td>\n",
       "      <td>26800.0</td>\n",
       "      <td>ultra</td>\n",
       "      <td>Москва</td>\n",
       "      <td>0.0</td>\n",
       "      <td>0.0</td>\n",
       "      <td>0</td>\n",
       "      <td>0</td>\n",
       "      <td>1950</td>\n",
       "    </tr>\n",
       "    <tr>\n",
       "      <td>334</td>\n",
       "      <td>1054</td>\n",
       "      <td>2018-06-01</td>\n",
       "      <td>65.0</td>\n",
       "      <td>527.0</td>\n",
       "      <td>69.0</td>\n",
       "      <td>19380.0</td>\n",
       "      <td>smart</td>\n",
       "      <td>Омск</td>\n",
       "      <td>27.0</td>\n",
       "      <td>19.0</td>\n",
       "      <td>4</td>\n",
       "      <td>938</td>\n",
       "      <td>1488</td>\n",
       "    </tr>\n",
       "    <tr>\n",
       "      <td>443</td>\n",
       "      <td>1069</td>\n",
       "      <td>2018-12-01</td>\n",
       "      <td>38.0</td>\n",
       "      <td>349.0</td>\n",
       "      <td>56.0</td>\n",
       "      <td>11367.0</td>\n",
       "      <td>smart</td>\n",
       "      <td>Екатеринбург</td>\n",
       "      <td>0.0</td>\n",
       "      <td>6.0</td>\n",
       "      <td>0</td>\n",
       "      <td>18</td>\n",
       "      <td>568</td>\n",
       "    </tr>\n",
       "    <tr>\n",
       "      <td>2585</td>\n",
       "      <td>1402</td>\n",
       "      <td>2018-12-01</td>\n",
       "      <td>71.0</td>\n",
       "      <td>596.0</td>\n",
       "      <td>22.0</td>\n",
       "      <td>26298.0</td>\n",
       "      <td>ultra</td>\n",
       "      <td>Пенза</td>\n",
       "      <td>0.0</td>\n",
       "      <td>0.0</td>\n",
       "      <td>0</td>\n",
       "      <td>0</td>\n",
       "      <td>1950</td>\n",
       "    </tr>\n",
       "    <tr>\n",
       "      <td>2600</td>\n",
       "      <td>1404</td>\n",
       "      <td>2018-10-01</td>\n",
       "      <td>28.0</td>\n",
       "      <td>275.0</td>\n",
       "      <td>59.0</td>\n",
       "      <td>17422.0</td>\n",
       "      <td>smart</td>\n",
       "      <td>Иркутск</td>\n",
       "      <td>0.0</td>\n",
       "      <td>9.0</td>\n",
       "      <td>3</td>\n",
       "      <td>627</td>\n",
       "      <td>1177</td>\n",
       "    </tr>\n",
       "  </tbody>\n",
       "</table>\n",
       "</div>"
      ],
      "text/plain": [
       "      user_id      month  Количество звонков  Длительность звонков  \\\n",
       "2429     1381 2018-07-01                86.0                 673.0   \n",
       "334      1054 2018-06-01                65.0                 527.0   \n",
       "443      1069 2018-12-01                38.0                 349.0   \n",
       "2585     1402 2018-12-01                71.0                 596.0   \n",
       "2600     1404 2018-10-01                28.0                 275.0   \n",
       "\n",
       "      Количество сообщений  Сумма трафика  Тариф         Город  \\\n",
       "2429                  29.0        26800.0  ultra        Москва   \n",
       "334                   69.0        19380.0  smart          Омск   \n",
       "443                   56.0        11367.0  smart  Екатеринбург   \n",
       "2585                  22.0        26298.0  ultra         Пенза   \n",
       "2600                  59.0        17422.0  smart       Иркутск   \n",
       "\n",
       "     Минуты сверх лимита Сообщения сверх лимита Интернет сверх лимита, Гб  \\\n",
       "2429                 0.0                    0.0                         0   \n",
       "334                 27.0                   19.0                         4   \n",
       "443                  0.0                    6.0                         0   \n",
       "2585                 0.0                    0.0                         0   \n",
       "2600                 0.0                    9.0                         3   \n",
       "\n",
       "      Доп. оплата  Выручка за месяц  \n",
       "2429            0              1950  \n",
       "334           938              1488  \n",
       "443            18               568  \n",
       "2585            0              1950  \n",
       "2600          627              1177  "
      ]
     },
     "execution_count": 64,
     "metadata": {},
     "output_type": "execute_result"
    }
   ],
   "source": [
    "df.sample(5)"
   ]
  },
  {
   "cell_type": "markdown",
   "metadata": {},
   "source": [
    "***Дисперсия, стандартное отклонение***"
   ]
  },
  {
   "cell_type": "code",
   "execution_count": 65,
   "metadata": {},
   "outputs": [
    {
     "name": "stdout",
     "output_type": "stream",
     "text": [
      "34545911.12695753\n",
      "101935621.04821923\n"
     ]
    }
   ],
   "source": [
    "dispersion_smart_internet = df_smart['Сумма трафика'].var()\n",
    "print(dispersion_smart_internet)\n",
    "dispersion_ultra_internet = df_ultra['Сумма трафика'].var()\n",
    "print(dispersion_ultra_internet)"
   ]
  },
  {
   "cell_type": "code",
   "execution_count": 66,
   "metadata": {},
   "outputs": [
    {
     "name": "stdout",
     "output_type": "stream",
     "text": [
      "5877.576977544193\n",
      "10096.317202238608\n"
     ]
    }
   ],
   "source": [
    "std_smart_internet = df_smart['Сумма трафика'].std()\n",
    "print(std_smart_internet)\n",
    "std_ultra_internet = df_ultra['Сумма трафика'].std()\n",
    "print(std_ultra_internet)"
   ]
  },
  {
   "cell_type": "markdown",
   "metadata": {},
   "source": [
    "***Среднее значение, медиана***"
   ]
  },
  {
   "cell_type": "code",
   "execution_count": 67,
   "metadata": {},
   "outputs": [
    {
     "name": "stdout",
     "output_type": "stream",
     "text": [
      "16229.188425302826\n",
      "19486.90152284264\n"
     ]
    }
   ],
   "source": [
    "mean_smart_internet = df_smart['Сумма трафика'].mean()\n",
    "print(mean_smart_internet)\n",
    "mean_ultra_internet = df_ultra['Сумма трафика'].mean()\n",
    "print(mean_ultra_internet)"
   ]
  },
  {
   "cell_type": "code",
   "execution_count": 68,
   "metadata": {},
   "outputs": [
    {
     "name": "stdout",
     "output_type": "stream",
     "text": [
      "16531.0\n",
      "19324.0\n"
     ]
    }
   ],
   "source": [
    "median_smart_internet = df_smart['Сумма трафика'].median()\n",
    "print(median_smart_internet)\n",
    "median_ultra_internet = df_ultra['Сумма трафика'].median()\n",
    "print(median_ultra_internet)"
   ]
  },
  {
   "cell_type": "markdown",
   "metadata": {},
   "source": [
    "***Построим гистограмму для количества потраченного трафика***"
   ]
  },
  {
   "cell_type": "code",
   "execution_count": 69,
   "metadata": {
    "scrolled": false
   },
   "outputs": [
    {
     "data": {
      "image/png": "[encoded data removed]",
      "text/plain": [
       "<Figure size 864x432 with 1 Axes>"
      ]
     },
     "metadata": {
      "needs_background": "light"
     },
     "output_type": "display_data"
    }
   ],
   "source": [
    "df_smart['Сумма трафика'].plot(kind='hist', bins=40, figsize=(12,6), ec='black', color='pink', label = 'Smart', title='Количество потраченного трафика')\n",
    "df_ultra['Сумма трафика'].plot(kind='hist', bins=40, figsize=(12,6), ec='black', color='yellow', alpha=0.7, label = 'Ultra')\n",
    "plt.legend()\n",
    "plt.xlabel('Количество трафика, Мб')\n",
    "plt.ylabel('Количество человек')\n",
    "plt.show()"
   ]
  },
  {
   "cell_type": "markdown",
   "metadata": {},
   "source": [
    "***Визуаизируем количество пользователей каждого тарифа и выручку за год по каждому тарифу***"
   ]
  },
  {
   "cell_type": "code",
   "execution_count": 70,
   "metadata": {},
   "outputs": [
    {
     "data": {
      "text/plain": [
       "Тариф\n",
       "smart    350\n",
       "ultra    148\n",
       "Name: user_id, dtype: int64"
      ]
     },
     "execution_count": 70,
     "metadata": {},
     "output_type": "execute_result"
    }
   ],
   "source": [
    "df.groupby('Тариф')['user_id'].nunique()"
   ]
  },
  {
   "cell_type": "code",
   "execution_count": 71,
   "metadata": {
    "scrolled": true
   },
   "outputs": [
    {
     "name": "stdout",
     "output_type": "stream",
     "text": [
      "Тариф\n",
      "smart    350\n",
      "ultra    148\n",
      "Name: user_id, dtype: int64\n"
     ]
    },
    {
     "data": {
      "image/png": "[encoded data removed]",
      "text/plain": [
       "<Figure size 1440x360 with 1 Axes>"
      ]
     },
     "metadata": {},
     "output_type": "display_data"
    }
   ],
   "source": [
    "print(df.groupby('Тариф')['user_id'].nunique())\n",
    "df.groupby('Тариф')['user_id'].nunique().plot(kind='pie', subplots=True, fontsize=15, colors={'pink', 'yellow'},\n",
    "                                                                    autopct='%.1f%%', \n",
    "                                                                     title = 'Количество пользователей, %',\n",
    "                                                                     figsize=(20,5))\n",
    "plt.show()\n",
    "                                                            "
   ]
  },
  {
   "cell_type": "code",
   "execution_count": 72,
   "metadata": {
    "scrolled": true
   },
   "outputs": [
    {
     "name": "stdout",
     "output_type": "stream",
     "text": [
      "Тариф\n",
      "smart    2885751\n",
      "ultra    2040000\n",
      "Name: Выручка за месяц, dtype: int64\n"
     ]
    },
    {
     "data": {
      "image/png": "[encoded data removed]",
      "text/plain": [
       "<Figure size 1440x360 with 1 Axes>"
      ]
     },
     "metadata": {},
     "output_type": "display_data"
    }
   ],
   "source": [
    "print(df.groupby('Тариф')['Выручка за месяц'].sum())\n",
    "df.groupby('Тариф')['Выручка за месяц'].sum().plot(kind='pie', subplots=True, fontsize=15, colors={'pink', 'yellow'},\n",
    "                                                                    autopct='%.1f%%', \n",
    "                                                                     title = 'Выручка за 2018 по тарифам, %',\n",
    "                                                                     figsize=(20,5))\n",
    "plt.show()"
   ]
  },
  {
   "cell_type": "markdown",
   "metadata": {},
   "source": [
    "***Сводная информация по тарифам***"
   ]
  },
  {
   "cell_type": "code",
   "execution_count": 73,
   "metadata": {
    "scrolled": true
   },
   "outputs": [
    {
     "data": {
      "text/html": [
       "<div>\n",
       "<style scoped>\n",
       "    .dataframe tbody tr th:only-of-type {\n",
       "        vertical-align: middle;\n",
       "    }\n",
       "\n",
       "    .dataframe tbody tr th {\n",
       "        vertical-align: top;\n",
       "    }\n",
       "\n",
       "    .dataframe thead th {\n",
       "        text-align: right;\n",
       "    }\n",
       "</style>\n",
       "<table border=\"1\" class=\"dataframe\">\n",
       "  <thead>\n",
       "    <tr style=\"text-align: right;\">\n",
       "      <th></th>\n",
       "      <th>Тариф</th>\n",
       "      <th>Пользователи, чел</th>\n",
       "      <th>Выручка за 2018 год, руб</th>\n",
       "      <th>Звонки, мин</th>\n",
       "      <th>Сообщения, ед</th>\n",
       "      <th>Интернет-трафик, Мб</th>\n",
       "    </tr>\n",
       "  </thead>\n",
       "  <tbody>\n",
       "    <tr>\n",
       "      <td>0</td>\n",
       "      <td>Smart</td>\n",
       "      <td>350</td>\n",
       "      <td>2885751</td>\n",
       "      <td>422</td>\n",
       "      <td>28</td>\n",
       "      <td>16531</td>\n",
       "    </tr>\n",
       "    <tr>\n",
       "      <td>1</td>\n",
       "      <td>Ultra</td>\n",
       "      <td>148</td>\n",
       "      <td>2040000</td>\n",
       "      <td>518</td>\n",
       "      <td>38</td>\n",
       "      <td>19324</td>\n",
       "    </tr>\n",
       "  </tbody>\n",
       "</table>\n",
       "</div>"
      ],
      "text/plain": [
       "   Тариф  Пользователи, чел  Выручка за 2018 год, руб  Звонки, мин  \\\n",
       "0  Smart                350                   2885751          422   \n",
       "1  Ultra                148                   2040000          518   \n",
       "\n",
       "   Сообщения, ед  Интернет-трафик, Мб  \n",
       "0             28                16531  \n",
       "1             38                19324  "
      ]
     },
     "execution_count": 73,
     "metadata": {},
     "output_type": "execute_result"
    }
   ],
   "source": [
    "df_mean = pd.DataFrame ({\n",
    "'Тариф': ['Smart', 'Ultra'],\n",
    "'Пользователи, чел': [350, 148],\n",
    "'Выручка за 2018 год, руб': [2885751, 2040000],\n",
    "'Звонки, мин': [422, 518],\n",
    "'Сообщения, ед': [28, 38],\n",
    "'Интернет-трафик, Мб': [16531, 19324],\n",
    "})\n",
    "df_mean"
   ]
  },
  {
   "cell_type": "markdown",
   "metadata": {},
   "source": [
    "### Вывод\n",
    "\n",
    "Рассмотрим основные отличия по использованию звонков, сообщений и интернета у пользователей, а также количество пользователей и выручку за год.\n",
    "\n",
    "1. Большая часть пользователей, около 70%, предпочитают использовать более дешевый тариф Смарт;\n",
    "2. При этом, примерно 59% выручки приходится также на тариф Смарт, несмотря на меньшую стоимость: по итогам года выручка за год по данному тарифу составила около 2,9 млн. руб., а по тарифу Ультра на порядок меньше, около 2,04 млн. руб.\n",
    "3. Несмотря на количество сообщений, звонков и трафика, включенных в абонентскую плату по тарифу Ультра мы видим, что в среднем пользователи не исользуют и половины возможностей.\n",
    "4. В ситуации с тарифом Смарт, в среднем пользователям недостаточно лимита по абонентской плате и им приходится дополнительно доплачивать за интернет-трафик сверх абонентской платы."
   ]
  },
  {
   "cell_type": "markdown",
   "metadata": {},
   "source": [
    "<a id='4'></a>\n",
    "# Шаг 4.  Проверка гипотез\n"
   ]
  },
  {
   "cell_type": "markdown",
   "metadata": {},
   "source": [
    "<a id='4.1'></a>\n",
    "### 4.1 Средняя выручка пользователей тарифов «Ультра» и «Смарт» различается"
   ]
  },
  {
   "cell_type": "markdown",
   "metadata": {},
   "source": [
    "* Нулевая гипотеза H0: средняя выручка пользователей тарифа Smart НЕ отличается (то есть равна) от средней выручки пользователей тарифа Ultra\n",
    "* Альтернативная гипотеза H1: средняя выручка пользователей тарифа Smart отличается от средней выручки пользователей тарифа Ultra"
   ]
  },
  {
   "cell_type": "markdown",
   "metadata": {},
   "source": [
    "***Проверка на выбросы***"
   ]
  },
  {
   "cell_type": "code",
   "execution_count": 74,
   "metadata": {},
   "outputs": [
    {
     "data": {
      "text/html": [
       "<div>\n",
       "<style scoped>\n",
       "    .dataframe tbody tr th:only-of-type {\n",
       "        vertical-align: middle;\n",
       "    }\n",
       "\n",
       "    .dataframe tbody tr th {\n",
       "        vertical-align: top;\n",
       "    }\n",
       "\n",
       "    .dataframe thead th {\n",
       "        text-align: right;\n",
       "    }\n",
       "</style>\n",
       "<table border=\"1\" class=\"dataframe\">\n",
       "  <thead>\n",
       "    <tr style=\"text-align: right;\">\n",
       "      <th></th>\n",
       "      <th>user_id</th>\n",
       "      <th>month</th>\n",
       "      <th>Количество звонков</th>\n",
       "      <th>Длительность звонков</th>\n",
       "      <th>Количество сообщений</th>\n",
       "      <th>Сумма трафика</th>\n",
       "      <th>Тариф</th>\n",
       "      <th>Город</th>\n",
       "      <th>Минуты сверх лимита</th>\n",
       "      <th>Сообщения сверх лимита</th>\n",
       "      <th>Интернет сверх лимита, Гб</th>\n",
       "      <th>Доп. оплата</th>\n",
       "      <th>Выручка за месяц</th>\n",
       "    </tr>\n",
       "  </thead>\n",
       "  <tbody>\n",
       "    <tr>\n",
       "      <td>1649</td>\n",
       "      <td>1262</td>\n",
       "      <td>2018-04-01</td>\n",
       "      <td>36.0</td>\n",
       "      <td>313.0</td>\n",
       "      <td>45.0</td>\n",
       "      <td>17161.0</td>\n",
       "      <td>smart</td>\n",
       "      <td>Ульяновск</td>\n",
       "      <td>0.0</td>\n",
       "      <td>0.0</td>\n",
       "      <td>2</td>\n",
       "      <td>400</td>\n",
       "      <td>950</td>\n",
       "    </tr>\n",
       "    <tr>\n",
       "      <td>3161</td>\n",
       "      <td>1490</td>\n",
       "      <td>2018-11-01</td>\n",
       "      <td>31.0</td>\n",
       "      <td>282.0</td>\n",
       "      <td>47.0</td>\n",
       "      <td>18733.0</td>\n",
       "      <td>smart</td>\n",
       "      <td>Москва</td>\n",
       "      <td>0.0</td>\n",
       "      <td>0.0</td>\n",
       "      <td>4</td>\n",
       "      <td>800</td>\n",
       "      <td>1350</td>\n",
       "    </tr>\n",
       "    <tr>\n",
       "      <td>525</td>\n",
       "      <td>1083</td>\n",
       "      <td>2018-09-01</td>\n",
       "      <td>57.0</td>\n",
       "      <td>548.0</td>\n",
       "      <td>54.0</td>\n",
       "      <td>17252.0</td>\n",
       "      <td>smart</td>\n",
       "      <td>Сочи</td>\n",
       "      <td>48.0</td>\n",
       "      <td>4.0</td>\n",
       "      <td>2</td>\n",
       "      <td>556</td>\n",
       "      <td>1106</td>\n",
       "    </tr>\n",
       "    <tr>\n",
       "      <td>2624</td>\n",
       "      <td>1409</td>\n",
       "      <td>2018-07-01</td>\n",
       "      <td>73.0</td>\n",
       "      <td>643.0</td>\n",
       "      <td>41.0</td>\n",
       "      <td>19335.0</td>\n",
       "      <td>smart</td>\n",
       "      <td>Набережные Челны</td>\n",
       "      <td>143.0</td>\n",
       "      <td>0.0</td>\n",
       "      <td>4</td>\n",
       "      <td>1229</td>\n",
       "      <td>1779</td>\n",
       "    </tr>\n",
       "    <tr>\n",
       "      <td>2934</td>\n",
       "      <td>1457</td>\n",
       "      <td>2018-08-01</td>\n",
       "      <td>53.0</td>\n",
       "      <td>494.0</td>\n",
       "      <td>26.0</td>\n",
       "      <td>8635.0</td>\n",
       "      <td>smart</td>\n",
       "      <td>Саратов</td>\n",
       "      <td>0.0</td>\n",
       "      <td>0.0</td>\n",
       "      <td>0</td>\n",
       "      <td>0</td>\n",
       "      <td>550</td>\n",
       "    </tr>\n",
       "  </tbody>\n",
       "</table>\n",
       "</div>"
      ],
      "text/plain": [
       "      user_id      month  Количество звонков  Длительность звонков  \\\n",
       "1649     1262 2018-04-01                36.0                 313.0   \n",
       "3161     1490 2018-11-01                31.0                 282.0   \n",
       "525      1083 2018-09-01                57.0                 548.0   \n",
       "2624     1409 2018-07-01                73.0                 643.0   \n",
       "2934     1457 2018-08-01                53.0                 494.0   \n",
       "\n",
       "      Количество сообщений  Сумма трафика  Тариф             Город  \\\n",
       "1649                  45.0        17161.0  smart         Ульяновск   \n",
       "3161                  47.0        18733.0  smart            Москва   \n",
       "525                   54.0        17252.0  smart              Сочи   \n",
       "2624                  41.0        19335.0  smart  Набережные Челны   \n",
       "2934                  26.0         8635.0  smart           Саратов   \n",
       "\n",
       "     Минуты сверх лимита Сообщения сверх лимита Интернет сверх лимита, Гб  \\\n",
       "1649                 0.0                    0.0                         2   \n",
       "3161                 0.0                    0.0                         4   \n",
       "525                 48.0                    4.0                         2   \n",
       "2624               143.0                    0.0                         4   \n",
       "2934                 0.0                    0.0                         0   \n",
       "\n",
       "      Доп. оплата  Выручка за месяц  \n",
       "1649          400               950  \n",
       "3161          800              1350  \n",
       "525           556              1106  \n",
       "2624         1229              1779  \n",
       "2934            0               550  "
      ]
     },
     "execution_count": 74,
     "metadata": {},
     "output_type": "execute_result"
    }
   ],
   "source": [
    "df_smart.sample(5)"
   ]
  },
  {
   "cell_type": "code",
   "execution_count": 75,
   "metadata": {},
   "outputs": [
    {
     "data": {
      "image/png": "[encoded data removed]",
      "text/plain": [
       "<Figure size 432x288 with 1 Axes>"
      ]
     },
     "metadata": {
      "needs_background": "light"
     },
     "output_type": "display_data"
    },
    {
     "data": {
      "image/png": "[encoded data removed]",
      "text/plain": [
       "<Figure size 432x288 with 1 Axes>"
      ]
     },
     "metadata": {
      "needs_background": "light"
     },
     "output_type": "display_data"
    }
   ],
   "source": [
    "df_ultra.boxplot('Выручка за месяц', showfliers=False)\n",
    "plt.xlabel('тариф Ultra')\n",
    "plt.show()\n",
    "\n",
    "df_smart.boxplot('Выручка за месяц', showfliers=False)\n",
    "plt.xlabel('тариф Smart')\n",
    "plt.show()"
   ]
  },
  {
   "cell_type": "markdown",
   "metadata": {},
   "source": [
    "***Определим интервалы у ящика с усами***"
   ]
  },
  {
   "cell_type": "code",
   "execution_count": 76,
   "metadata": {},
   "outputs": [],
   "source": [
    "def intervals(column, data):\n",
    "    q1 = data[column].quantile(0.25)\n",
    "    q3 = data[column].quantile(0.75)\n",
    "    R = q3 - q1 \n",
    "    left_int = q1 - 1.5*R\n",
    "    right_int = q3 + 1.5*R\n",
    "    return (left_int, right_int)"
   ]
  },
  {
   "cell_type": "code",
   "execution_count": 77,
   "metadata": {
    "scrolled": true
   },
   "outputs": [
    {
     "data": {
      "text/plain": [
       "(-1250.0, 3550.0)"
      ]
     },
     "execution_count": 77,
     "metadata": {},
     "output_type": "execute_result"
    }
   ],
   "source": [
    "intervals('Выручка за месяц', df_smart)"
   ]
  },
  {
   "cell_type": "code",
   "execution_count": 78,
   "metadata": {},
   "outputs": [
    {
     "data": {
      "text/plain": [
       "(1950.0, 1950.0)"
      ]
     },
     "execution_count": 78,
     "metadata": {},
     "output_type": "execute_result"
    }
   ],
   "source": [
    "intervals('Выручка за месяц', df_ultra)"
   ]
  },
  {
   "cell_type": "code",
   "execution_count": 79,
   "metadata": {},
   "outputs": [
    {
     "data": {
      "text/plain": [
       "8       1350\n",
       "9        550\n",
       "10       550\n",
       "11      1150\n",
       "12      1550\n",
       "        ... \n",
       "3209    1750\n",
       "3210     550\n",
       "3211    1150\n",
       "3212    1513\n",
       "3213     598\n",
       "Name: Выручка за месяц, Length: 2197, dtype: int64"
      ]
     },
     "execution_count": 79,
     "metadata": {},
     "output_type": "execute_result"
    }
   ],
   "source": [
    "df_ultra_rev = df_ultra[(df_ultra['Выручка за месяц'] <= 1950) & (df_ultra['Выручка за месяц'] >= 1950)]['Выручка за месяц']\n",
    "df_smart_rev = df_smart[(df_smart['Выручка за месяц'] <= 3550) & (df_smart['Выручка за месяц'] >= 0)]['Выручка за месяц']\n",
    "df_smart_rev"
   ]
  },
  {
   "cell_type": "markdown",
   "metadata": {},
   "source": [
    "***Рассчитаем p-value*** \n",
    "\n",
    "Чтобы проверить гипотезу о равенстве среднего двух генеральных совокупностей по взятым из них выборкам, применим метод scipy.stats.ttest_ind()"
   ]
  },
  {
   "cell_type": "code",
   "execution_count": 80,
   "metadata": {},
   "outputs": [
    {
     "name": "stdout",
     "output_type": "stream",
     "text": [
      "p-значение:  4.6244593528593796e-153\n",
      "пороговое значение alpha = 0.05\n"
     ]
    }
   ],
   "source": [
    "from scipy import stats as st\n",
    "\n",
    "results = st.ttest_ind(df_smart_rev, df_ultra_rev)\n",
    "print('p-значение: ', results.pvalue)\n",
    "print('пороговое значение alpha = 0.05')"
   ]
  },
  {
   "cell_type": "code",
   "execution_count": 81,
   "metadata": {},
   "outputs": [
    {
     "name": "stdout",
     "output_type": "stream",
     "text": [
      "1249.741010468821\n",
      "1950.0\n"
     ]
    }
   ],
   "source": [
    "#проверка\n",
    "print(df_smart_rev.mean())\n",
    "print(df_ultra_rev.mean())"
   ]
  },
  {
   "cell_type": "markdown",
   "metadata": {},
   "source": [
    "### Вывод:\n",
    "\n",
    "H0 отвергаем, принимаем альтернативную гипотезу, что  средняя выручка пользователей тарифа Smart отличается от средней выручки пользователей тарифа Ultra"
   ]
  },
  {
   "cell_type": "markdown",
   "metadata": {},
   "source": [
    "<a id='4.2'></a>\n",
    "### 4.2 Средняя выручка пользователей из Москвы отличается от выручки пользователей из других регионов"
   ]
  },
  {
   "cell_type": "markdown",
   "metadata": {},
   "source": [
    "* Нулевая гипотеза H0: средняя выручка пользователей из Москвы НЕ отличается (то есть равна) от средней выручки пользователей из других регионов\n",
    "* Альтернативная гипотеза H1: средняя выручка пользователей из Москвы отличается от средней выручки пользователей из других регионов"
   ]
  },
  {
   "cell_type": "code",
   "execution_count": 82,
   "metadata": {},
   "outputs": [
    {
     "data": {
      "text/html": [
       "<div>\n",
       "<style scoped>\n",
       "    .dataframe tbody tr th:only-of-type {\n",
       "        vertical-align: middle;\n",
       "    }\n",
       "\n",
       "    .dataframe tbody tr th {\n",
       "        vertical-align: top;\n",
       "    }\n",
       "\n",
       "    .dataframe thead th {\n",
       "        text-align: right;\n",
       "    }\n",
       "</style>\n",
       "<table border=\"1\" class=\"dataframe\">\n",
       "  <thead>\n",
       "    <tr style=\"text-align: right;\">\n",
       "      <th></th>\n",
       "      <th>user_id</th>\n",
       "      <th>month</th>\n",
       "      <th>Количество звонков</th>\n",
       "      <th>Длительность звонков</th>\n",
       "      <th>Количество сообщений</th>\n",
       "      <th>Сумма трафика</th>\n",
       "      <th>Тариф</th>\n",
       "      <th>Город</th>\n",
       "      <th>Минуты сверх лимита</th>\n",
       "      <th>Сообщения сверх лимита</th>\n",
       "      <th>Интернет сверх лимита, Гб</th>\n",
       "      <th>Доп. оплата</th>\n",
       "      <th>Выручка за месяц</th>\n",
       "    </tr>\n",
       "  </thead>\n",
       "  <tbody>\n",
       "    <tr>\n",
       "      <td>985</td>\n",
       "      <td>1155</td>\n",
       "      <td>2018-06-01</td>\n",
       "      <td>36.0</td>\n",
       "      <td>289.0</td>\n",
       "      <td>40.0</td>\n",
       "      <td>16476.0</td>\n",
       "      <td>smart</td>\n",
       "      <td>Ставрополь</td>\n",
       "      <td>0.0</td>\n",
       "      <td>0.0</td>\n",
       "      <td>2</td>\n",
       "      <td>400</td>\n",
       "      <td>950</td>\n",
       "    </tr>\n",
       "    <tr>\n",
       "      <td>659</td>\n",
       "      <td>1104</td>\n",
       "      <td>2018-05-01</td>\n",
       "      <td>31.0</td>\n",
       "      <td>248.0</td>\n",
       "      <td>79.0</td>\n",
       "      <td>19532.0</td>\n",
       "      <td>ultra</td>\n",
       "      <td>Нижний Тагил</td>\n",
       "      <td>0.0</td>\n",
       "      <td>0.0</td>\n",
       "      <td>0</td>\n",
       "      <td>0</td>\n",
       "      <td>1950</td>\n",
       "    </tr>\n",
       "    <tr>\n",
       "      <td>1282</td>\n",
       "      <td>1200</td>\n",
       "      <td>2018-09-01</td>\n",
       "      <td>70.0</td>\n",
       "      <td>560.0</td>\n",
       "      <td>57.0</td>\n",
       "      <td>17853.0</td>\n",
       "      <td>ultra</td>\n",
       "      <td>Санкт-Петербург</td>\n",
       "      <td>0.0</td>\n",
       "      <td>0.0</td>\n",
       "      <td>0</td>\n",
       "      <td>0</td>\n",
       "      <td>1950</td>\n",
       "    </tr>\n",
       "    <tr>\n",
       "      <td>2319</td>\n",
       "      <td>1368</td>\n",
       "      <td>2018-12-01</td>\n",
       "      <td>45.0</td>\n",
       "      <td>403.0</td>\n",
       "      <td>89.0</td>\n",
       "      <td>20500.0</td>\n",
       "      <td>smart</td>\n",
       "      <td>Омск</td>\n",
       "      <td>0.0</td>\n",
       "      <td>39.0</td>\n",
       "      <td>6</td>\n",
       "      <td>1317</td>\n",
       "      <td>1867</td>\n",
       "    </tr>\n",
       "    <tr>\n",
       "      <td>2268</td>\n",
       "      <td>1359</td>\n",
       "      <td>2018-09-01</td>\n",
       "      <td>60.0</td>\n",
       "      <td>521.0</td>\n",
       "      <td>17.0</td>\n",
       "      <td>13977.0</td>\n",
       "      <td>smart</td>\n",
       "      <td>Москва</td>\n",
       "      <td>21.0</td>\n",
       "      <td>0.0</td>\n",
       "      <td>0</td>\n",
       "      <td>63</td>\n",
       "      <td>613</td>\n",
       "    </tr>\n",
       "  </tbody>\n",
       "</table>\n",
       "</div>"
      ],
      "text/plain": [
       "      user_id      month  Количество звонков  Длительность звонков  \\\n",
       "985      1155 2018-06-01                36.0                 289.0   \n",
       "659      1104 2018-05-01                31.0                 248.0   \n",
       "1282     1200 2018-09-01                70.0                 560.0   \n",
       "2319     1368 2018-12-01                45.0                 403.0   \n",
       "2268     1359 2018-09-01                60.0                 521.0   \n",
       "\n",
       "      Количество сообщений  Сумма трафика  Тариф            Город  \\\n",
       "985                   40.0        16476.0  smart       Ставрополь   \n",
       "659                   79.0        19532.0  ultra     Нижний Тагил   \n",
       "1282                  57.0        17853.0  ultra  Санкт-Петербург   \n",
       "2319                  89.0        20500.0  smart             Омск   \n",
       "2268                  17.0        13977.0  smart           Москва   \n",
       "\n",
       "     Минуты сверх лимита Сообщения сверх лимита Интернет сверх лимита, Гб  \\\n",
       "985                  0.0                    0.0                         2   \n",
       "659                  0.0                    0.0                         0   \n",
       "1282                 0.0                    0.0                         0   \n",
       "2319                 0.0                   39.0                         6   \n",
       "2268                21.0                    0.0                         0   \n",
       "\n",
       "      Доп. оплата  Выручка за месяц  \n",
       "985           400               950  \n",
       "659             0              1950  \n",
       "1282            0              1950  \n",
       "2319         1317              1867  \n",
       "2268           63               613  "
      ]
     },
     "execution_count": 82,
     "metadata": {},
     "output_type": "execute_result"
    }
   ],
   "source": [
    "df.sample(5)"
   ]
  },
  {
   "cell_type": "code",
   "execution_count": 83,
   "metadata": {},
   "outputs": [],
   "source": [
    "Moscow = df[(df['Город'] == 'Москва')]\n",
    "not_Moscow = df[(df['Город'] != 'Москва')]"
   ]
  },
  {
   "cell_type": "markdown",
   "metadata": {},
   "source": [
    "***Проверка на выбросы***"
   ]
  },
  {
   "cell_type": "code",
   "execution_count": 84,
   "metadata": {},
   "outputs": [
    {
     "data": {
      "image/png": "[encoded data removed]",
      "text/plain": [
       "<Figure size 432x288 with 1 Axes>"
      ]
     },
     "metadata": {
      "needs_background": "light"
     },
     "output_type": "display_data"
    },
    {
     "data": {
      "image/png": "[encoded data removed]",
      "text/plain": [
       "<Figure size 432x288 with 1 Axes>"
      ]
     },
     "metadata": {
      "needs_background": "light"
     },
     "output_type": "display_data"
    }
   ],
   "source": [
    "Moscow.boxplot('Выручка за месяц')\n",
    "plt.xlabel('в Москве')\n",
    "plt.show()\n",
    "\n",
    "not_Moscow.boxplot('Выручка за месяц')\n",
    "plt.xlabel('в регионах России')\n",
    "plt.show()"
   ]
  },
  {
   "cell_type": "code",
   "execution_count": 85,
   "metadata": {},
   "outputs": [
    {
     "data": {
      "text/plain": [
       "0       1950\n",
       "1       1950\n",
       "2       1950\n",
       "3       1950\n",
       "4       1950\n",
       "        ... \n",
       "3209    1750\n",
       "3210     550\n",
       "3211    1150\n",
       "3212    1513\n",
       "3213     598\n",
       "Name: Выручка за месяц, Length: 2559, dtype: int64"
      ]
     },
     "execution_count": 85,
     "metadata": {},
     "output_type": "execute_result"
    }
   ],
   "source": [
    "Revenue_Moscow = Moscow[(Moscow['Выручка за месяц'] >= 500) & (Moscow['Выручка за месяц'] <= 3700)]['Выручка за месяц']\n",
    "Revenue_not_Moscow = not_Moscow[(not_Moscow['Выручка за месяц'] >= 500) & (not_Moscow['Выручка за месяц'] <= 3600)]['Выручка за месяц']\n",
    "Revenue_not_Moscow"
   ]
  },
  {
   "cell_type": "markdown",
   "metadata": {},
   "source": [
    "***Рассчитаем p-value*** "
   ]
  },
  {
   "cell_type": "code",
   "execution_count": 86,
   "metadata": {},
   "outputs": [
    {
     "name": "stdout",
     "output_type": "stream",
     "text": [
      "p-значение:  0.15085269049244385\n",
      "пороговое значение alpha = 0.05\n"
     ]
    }
   ],
   "source": [
    "from scipy import stats as st\n",
    "\n",
    "results = st.ttest_ind(Revenue_Moscow, Revenue_not_Moscow)\n",
    "print('p-значение: ', results.pvalue)\n",
    "print('пороговое значение alpha = 0.05')"
   ]
  },
  {
   "cell_type": "code",
   "execution_count": 87,
   "metadata": {},
   "outputs": [
    {
     "name": "stdout",
     "output_type": "stream",
     "text": [
      "1528.7211221122113\n",
      "1481.608050019539\n"
     ]
    }
   ],
   "source": [
    "#проверка\n",
    "print(Revenue_Moscow.mean())\n",
    "print(Revenue_not_Moscow.mean())"
   ]
  },
  {
   "cell_type": "markdown",
   "metadata": {},
   "source": [
    "### Вывод\n",
    "\n",
    "H0 не можем отвергнуть, принимаем, что средняя выручка пользователей из Москвы НЕ отличается (то есть равна) от средней выручки пользователей из других регионов. (по вычислениям видим, что разница примерно в 50 руб. - это незначительное отклонение)"
   ]
  },
  {
   "cell_type": "markdown",
   "metadata": {},
   "source": [
    "<a id='5'></a>\n",
    "# Шаг 5.  Общий вывод"
   ]
  },
  {
   "cell_type": "markdown",
   "metadata": {},
   "source": [
    "При анализе мы использовали небольшую выбору пользователей (500 чел.) тарифов Смарт и Ультра компании \"Мегалайн\" с данными за 2018 год по:\n",
    "* количеству и длительности звонков;\n",
    "* количеству отправленных сообщений;\n",
    "* по количеству использованного интернета.\n",
    "* также в нашем распоряжении было описание тарифов с указанием стоимости абонентской платы и стоимости услуг сверх тарифного пакета. \n",
    "\n",
    "На **первом этапе** были изучены все входные предоставленные данные: \n",
    "* проверили на наличие дубликатов  -не обнаружили;\n",
    "* изменили тип данных в столбцах с датами для удобства ведения дальнейших расчетов;\n",
    "* в таблице по звонкам избавились от данных с нулевой длительностью, так как стоимость таких звонков 0 руб. и для дальнейшего анализа данные не пригодятся.\n",
    "* учли особенности компании \"Мегалайн\" - так как компания Мегалайн» всегда округляет вверх значения минут и мегабайтов в большую сторону, мы оруглили данные по использованию трафика и длительности звонков, соответственно, к большему значению.\n",
    "* проверили на пропуски - в предоставленных данных пропущенные значения были только в колонке с датой прекращения пользования тарифом, так как по условию известно, что если значение пропущено в данном столбце, то тариф ещё действовал на момент выгрузки данных, оставили пропуски без изменений.\n",
    "\n",
    "На **втором этапе** для удобства расчетов мы свели все имеющиеся данные в одну сводную таблицу. \n",
    "* Для расчета выручки по каждому пользователю мы добавили информацию по использованию звонков, сообщений и интернета сверх установленного пакетом лимита.\n",
    "* Полученные данные позволили нам посчитать общую выручку по каждому тарифу за 2018 год:\n",
    "   - Тариф Ультра - 2029556 руб.\n",
    "   - Тариф Смарт - 2748486 руб.\n",
    "   \n",
    "На **третьем этапе** мы провели статистический анализ для детализации полученных цифр по выручке за год, чтобы понимать за счет чего выручка по тарифу \"Смарт\" с меньшей стоимостью абонентской платы на порядок превышает выручку по пакету \"Ультра\", а также проследить поведение пользователей и выяснили, что:\n",
    "* около 70% пользователей предпочитает тариф \"Смарт\"\n",
    "* в среднем пользователи тарифа \"Смарт\" тратят 422 мин. на звонки и 28 сообщений, что входит в обанентскую плату, но не укладываются в лимит по интернет-трафику примерно на 1,5 ГБ, за что доплачивают.\n",
    "* в свою очередь пользователи тарифа \"Ультра\" тратят 518 минут на звонки при лимите в 3000 минут и 38 сообщений из 1000 оплаченных аб. платой, в по интернету также укладываются и тратят в среднем 19 Гб из 30 Гб возможных.\n",
    "\n",
    "На **четвертом этапе** мы проверили 2 гипотезы с помощью T-критерий Стьюдента:\n",
    "1. Средняя выручка пользователей тарифов «Ультра» и «Смарт» различается - и действительно, приняли альтернативную гипотезу, что средняя выручка пользователей тарифа Smart отличается от средней выручки пользователей тарифа Ultra\n",
    "2. Средняя выручка пользователей из Москвы отличается от выручки пользователей из других регионов - приняли нулевую гипотезу, что средняя выручка пользователей из Москвы НЕ отличается от средней выручки пользователей из других регионов.\n",
    "\n",
    "**Рекомендации:**\n",
    "\n",
    "По итогам анализа мы видим, что пользователям тарифа Смарт приносят больше денег в компанию и в целом он более востребован среди пользователей. Одноко, большинству не хватает установленного лимита по интернету, а пользователи тарифа Ультра не используют все оплаченные возможности. Стоит рассмотреть создание промежуточного пакета, который бы удовлетворял по лимитам запросы пользователей Смарт и позволил части пользователей тарифа Ультра также перейти на более приемлемый вариант."
   ]
  }
 ],
 "metadata": {
  "kernelspec": {
   "display_name": "Python 3",
   "language": "python",
   "name": "python3"
  },
  "language_info": {
   "codemirror_mode": {
    "name": "ipython",
    "version": 3
   },
   "file_extension": ".py",
   "mimetype": "text/x-python",
   "name": "python",
   "nbconvert_exporter": "python",
   "pygments_lexer": "ipython3",
   "version": "3.8.3"
  },
  "toc": {
   "base_numbering": 1,
   "nav_menu": {},
   "number_sections": true,
   "sideBar": true,
   "skip_h1_title": true,
   "title_cell": "Table of Contents",
   "title_sidebar": "Contents",
   "toc_cell": false,
   "toc_position": {},
   "toc_section_display": true,
   "toc_window_display": true
  }
 },
 "nbformat": 4,
 "nbformat_minor": 4
}
